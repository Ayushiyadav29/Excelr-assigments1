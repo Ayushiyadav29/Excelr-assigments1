{
 "cells": [
  {
   "cell_type": "code",
   "execution_count": 1,
   "id": "84e5e0cc",
   "metadata": {
    "ExecuteTime": {
     "end_time": "2023-04-29T07:47:30.407922Z",
     "start_time": "2023-04-29T07:47:28.462046Z"
    }
   },
   "outputs": [],
   "source": [
    "from pandas import read_csv\n",
    "from sklearn import preprocessing\n",
    "from sklearn.model_selection import train_test_split\n",
    "from sklearn.model_selection import KFold\n",
    "from sklearn.model_selection import cross_val_score\n",
    "from sklearn.ensemble import RandomForestClassifier\n",
    "from sklearn.ensemble import RandomForestRegressor\n",
    "from sklearn.ensemble import AdaBoostClassifier\n",
    "from sklearn.ensemble import AdaBoostRegressor"
   ]
  },
  {
   "cell_type": "code",
   "execution_count": 2,
   "id": "aab3556a",
   "metadata": {
    "ExecuteTime": {
     "end_time": "2023-04-29T07:47:30.439281Z",
     "start_time": "2023-04-29T07:47:30.409729Z"
    }
   },
   "outputs": [],
   "source": [
    "df=read_csv('Company_Data.csv')"
   ]
  },
  {
   "cell_type": "code",
   "execution_count": 3,
   "id": "63c197f3",
   "metadata": {
    "ExecuteTime": {
     "end_time": "2023-04-29T07:47:30.487042Z",
     "start_time": "2023-04-29T07:47:30.441128Z"
    }
   },
   "outputs": [
    {
     "data": {
      "text/html": [
       "<div>\n",
       "<style scoped>\n",
       "    .dataframe tbody tr th:only-of-type {\n",
       "        vertical-align: middle;\n",
       "    }\n",
       "\n",
       "    .dataframe tbody tr th {\n",
       "        vertical-align: top;\n",
       "    }\n",
       "\n",
       "    .dataframe thead th {\n",
       "        text-align: right;\n",
       "    }\n",
       "</style>\n",
       "<table border=\"1\" class=\"dataframe\">\n",
       "  <thead>\n",
       "    <tr style=\"text-align: right;\">\n",
       "      <th></th>\n",
       "      <th>Sales</th>\n",
       "      <th>CompPrice</th>\n",
       "      <th>Income</th>\n",
       "      <th>Advertising</th>\n",
       "      <th>Population</th>\n",
       "      <th>Price</th>\n",
       "      <th>ShelveLoc</th>\n",
       "      <th>Age</th>\n",
       "      <th>Education</th>\n",
       "      <th>Urban</th>\n",
       "      <th>US</th>\n",
       "    </tr>\n",
       "  </thead>\n",
       "  <tbody>\n",
       "    <tr>\n",
       "      <th>0</th>\n",
       "      <td>9.50</td>\n",
       "      <td>138</td>\n",
       "      <td>73</td>\n",
       "      <td>11</td>\n",
       "      <td>276</td>\n",
       "      <td>120</td>\n",
       "      <td>Bad</td>\n",
       "      <td>42</td>\n",
       "      <td>17</td>\n",
       "      <td>Yes</td>\n",
       "      <td>Yes</td>\n",
       "    </tr>\n",
       "    <tr>\n",
       "      <th>1</th>\n",
       "      <td>11.22</td>\n",
       "      <td>111</td>\n",
       "      <td>48</td>\n",
       "      <td>16</td>\n",
       "      <td>260</td>\n",
       "      <td>83</td>\n",
       "      <td>Good</td>\n",
       "      <td>65</td>\n",
       "      <td>10</td>\n",
       "      <td>Yes</td>\n",
       "      <td>Yes</td>\n",
       "    </tr>\n",
       "    <tr>\n",
       "      <th>2</th>\n",
       "      <td>10.06</td>\n",
       "      <td>113</td>\n",
       "      <td>35</td>\n",
       "      <td>10</td>\n",
       "      <td>269</td>\n",
       "      <td>80</td>\n",
       "      <td>Medium</td>\n",
       "      <td>59</td>\n",
       "      <td>12</td>\n",
       "      <td>Yes</td>\n",
       "      <td>Yes</td>\n",
       "    </tr>\n",
       "    <tr>\n",
       "      <th>3</th>\n",
       "      <td>7.40</td>\n",
       "      <td>117</td>\n",
       "      <td>100</td>\n",
       "      <td>4</td>\n",
       "      <td>466</td>\n",
       "      <td>97</td>\n",
       "      <td>Medium</td>\n",
       "      <td>55</td>\n",
       "      <td>14</td>\n",
       "      <td>Yes</td>\n",
       "      <td>Yes</td>\n",
       "    </tr>\n",
       "    <tr>\n",
       "      <th>4</th>\n",
       "      <td>4.15</td>\n",
       "      <td>141</td>\n",
       "      <td>64</td>\n",
       "      <td>3</td>\n",
       "      <td>340</td>\n",
       "      <td>128</td>\n",
       "      <td>Bad</td>\n",
       "      <td>38</td>\n",
       "      <td>13</td>\n",
       "      <td>Yes</td>\n",
       "      <td>No</td>\n",
       "    </tr>\n",
       "    <tr>\n",
       "      <th>...</th>\n",
       "      <td>...</td>\n",
       "      <td>...</td>\n",
       "      <td>...</td>\n",
       "      <td>...</td>\n",
       "      <td>...</td>\n",
       "      <td>...</td>\n",
       "      <td>...</td>\n",
       "      <td>...</td>\n",
       "      <td>...</td>\n",
       "      <td>...</td>\n",
       "      <td>...</td>\n",
       "    </tr>\n",
       "    <tr>\n",
       "      <th>395</th>\n",
       "      <td>12.57</td>\n",
       "      <td>138</td>\n",
       "      <td>108</td>\n",
       "      <td>17</td>\n",
       "      <td>203</td>\n",
       "      <td>128</td>\n",
       "      <td>Good</td>\n",
       "      <td>33</td>\n",
       "      <td>14</td>\n",
       "      <td>Yes</td>\n",
       "      <td>Yes</td>\n",
       "    </tr>\n",
       "    <tr>\n",
       "      <th>396</th>\n",
       "      <td>6.14</td>\n",
       "      <td>139</td>\n",
       "      <td>23</td>\n",
       "      <td>3</td>\n",
       "      <td>37</td>\n",
       "      <td>120</td>\n",
       "      <td>Medium</td>\n",
       "      <td>55</td>\n",
       "      <td>11</td>\n",
       "      <td>No</td>\n",
       "      <td>Yes</td>\n",
       "    </tr>\n",
       "    <tr>\n",
       "      <th>397</th>\n",
       "      <td>7.41</td>\n",
       "      <td>162</td>\n",
       "      <td>26</td>\n",
       "      <td>12</td>\n",
       "      <td>368</td>\n",
       "      <td>159</td>\n",
       "      <td>Medium</td>\n",
       "      <td>40</td>\n",
       "      <td>18</td>\n",
       "      <td>Yes</td>\n",
       "      <td>Yes</td>\n",
       "    </tr>\n",
       "    <tr>\n",
       "      <th>398</th>\n",
       "      <td>5.94</td>\n",
       "      <td>100</td>\n",
       "      <td>79</td>\n",
       "      <td>7</td>\n",
       "      <td>284</td>\n",
       "      <td>95</td>\n",
       "      <td>Bad</td>\n",
       "      <td>50</td>\n",
       "      <td>12</td>\n",
       "      <td>Yes</td>\n",
       "      <td>Yes</td>\n",
       "    </tr>\n",
       "    <tr>\n",
       "      <th>399</th>\n",
       "      <td>9.71</td>\n",
       "      <td>134</td>\n",
       "      <td>37</td>\n",
       "      <td>0</td>\n",
       "      <td>27</td>\n",
       "      <td>120</td>\n",
       "      <td>Good</td>\n",
       "      <td>49</td>\n",
       "      <td>16</td>\n",
       "      <td>Yes</td>\n",
       "      <td>Yes</td>\n",
       "    </tr>\n",
       "  </tbody>\n",
       "</table>\n",
       "<p>400 rows × 11 columns</p>\n",
       "</div>"
      ],
      "text/plain": [
       "     Sales  CompPrice  Income  Advertising  Population  Price ShelveLoc  Age  \\\n",
       "0     9.50        138      73           11         276    120       Bad   42   \n",
       "1    11.22        111      48           16         260     83      Good   65   \n",
       "2    10.06        113      35           10         269     80    Medium   59   \n",
       "3     7.40        117     100            4         466     97    Medium   55   \n",
       "4     4.15        141      64            3         340    128       Bad   38   \n",
       "..     ...        ...     ...          ...         ...    ...       ...  ...   \n",
       "395  12.57        138     108           17         203    128      Good   33   \n",
       "396   6.14        139      23            3          37    120    Medium   55   \n",
       "397   7.41        162      26           12         368    159    Medium   40   \n",
       "398   5.94        100      79            7         284     95       Bad   50   \n",
       "399   9.71        134      37            0          27    120      Good   49   \n",
       "\n",
       "     Education Urban   US  \n",
       "0           17   Yes  Yes  \n",
       "1           10   Yes  Yes  \n",
       "2           12   Yes  Yes  \n",
       "3           14   Yes  Yes  \n",
       "4           13   Yes   No  \n",
       "..         ...   ...  ...  \n",
       "395         14   Yes  Yes  \n",
       "396         11    No  Yes  \n",
       "397         18   Yes  Yes  \n",
       "398         12   Yes  Yes  \n",
       "399         16   Yes  Yes  \n",
       "\n",
       "[400 rows x 11 columns]"
      ]
     },
     "execution_count": 3,
     "metadata": {},
     "output_type": "execute_result"
    }
   ],
   "source": [
    "df"
   ]
  },
  {
   "cell_type": "code",
   "execution_count": 4,
   "id": "0fc47c36",
   "metadata": {
    "ExecuteTime": {
     "end_time": "2023-04-29T07:47:30.502998Z",
     "start_time": "2023-04-29T07:47:30.490033Z"
    }
   },
   "outputs": [
    {
     "data": {
      "text/plain": [
       "0      1\n",
       "1      1\n",
       "2      1\n",
       "3      1\n",
       "4      1\n",
       "      ..\n",
       "395    1\n",
       "396    0\n",
       "397    1\n",
       "398    1\n",
       "399    1\n",
       "Name: Urban, Length: 400, dtype: int32"
      ]
     },
     "execution_count": 4,
     "metadata": {},
     "output_type": "execute_result"
    }
   ],
   "source": [
    "label_encoder=preprocessing.LabelEncoder()\n",
    "df['Urban']=label_encoder.fit_transform(df['Urban'])\n",
    "df['Urban']"
   ]
  },
  {
   "cell_type": "code",
   "execution_count": 5,
   "id": "eca6d1c7",
   "metadata": {
    "ExecuteTime": {
     "end_time": "2023-04-29T07:47:30.518987Z",
     "start_time": "2023-04-29T07:47:30.506025Z"
    }
   },
   "outputs": [
    {
     "data": {
      "text/plain": [
       "0      1\n",
       "1      1\n",
       "2      1\n",
       "3      1\n",
       "4      0\n",
       "      ..\n",
       "395    1\n",
       "396    1\n",
       "397    1\n",
       "398    1\n",
       "399    1\n",
       "Name: US, Length: 400, dtype: int32"
      ]
     },
     "execution_count": 5,
     "metadata": {},
     "output_type": "execute_result"
    }
   ],
   "source": [
    "label_encoder=preprocessing.LabelEncoder()\n",
    "df['US']=label_encoder.fit_transform(df['US'])\n",
    "df['US']"
   ]
  },
  {
   "cell_type": "code",
   "execution_count": 6,
   "id": "8480388a",
   "metadata": {
    "ExecuteTime": {
     "end_time": "2023-04-29T07:47:30.534914Z",
     "start_time": "2023-04-29T07:47:30.520950Z"
    }
   },
   "outputs": [
    {
     "data": {
      "text/plain": [
       "0      0\n",
       "1      1\n",
       "2      2\n",
       "3      2\n",
       "4      0\n",
       "      ..\n",
       "395    1\n",
       "396    2\n",
       "397    2\n",
       "398    0\n",
       "399    1\n",
       "Name: ShelveLoc, Length: 400, dtype: int32"
      ]
     },
     "execution_count": 6,
     "metadata": {},
     "output_type": "execute_result"
    }
   ],
   "source": [
    "label_encoder=preprocessing.LabelEncoder()\n",
    "df['ShelveLoc']=label_encoder.fit_transform(df['ShelveLoc'])\n",
    "df['ShelveLoc']"
   ]
  },
  {
   "cell_type": "code",
   "execution_count": 7,
   "id": "0617dc59",
   "metadata": {
    "ExecuteTime": {
     "end_time": "2023-04-29T07:47:30.550870Z",
     "start_time": "2023-04-29T07:47:30.535943Z"
    }
   },
   "outputs": [],
   "source": [
    "array=df.values\n",
    "x=array[:,0:10]\n",
    "y=array[:,10]"
   ]
  },
  {
   "cell_type": "code",
   "execution_count": 8,
   "id": "8f0464c8",
   "metadata": {
    "ExecuteTime": {
     "end_time": "2023-04-29T07:47:30.566147Z",
     "start_time": "2023-04-29T07:47:30.553863Z"
    }
   },
   "outputs": [],
   "source": [
    "num_trees=100\n",
    "max_features=4  \n",
    "kfold=KFold(n_splits=10,random_state=42,shuffle=True)\n",
    "model=RandomForestClassifier(n_estimators=num_trees,max_features=max_features)"
   ]
  },
  {
   "cell_type": "code",
   "execution_count": 9,
   "id": "44cb2812",
   "metadata": {
    "ExecuteTime": {
     "end_time": "2023-04-29T07:47:31.940523Z",
     "start_time": "2023-04-29T07:47:30.568117Z"
    }
   },
   "outputs": [
    {
     "name": "stdout",
     "output_type": "stream",
     "text": [
      "0.9099999999999999\n"
     ]
    }
   ],
   "source": [
    "results=cross_val_score(model,x,y,cv=kfold)\n",
    "print(results.mean())"
   ]
  },
  {
   "cell_type": "markdown",
   "id": "8347f08c",
   "metadata": {},
   "source": [
    "# RANDOM FOREST(COMAPNYDATA)\n",
    "# REGRESSOR"
   ]
  },
  {
   "cell_type": "code",
   "execution_count": 10,
   "id": "a985f74a",
   "metadata": {
    "ExecuteTime": {
     "end_time": "2023-04-29T07:47:31.955722Z",
     "start_time": "2023-04-29T07:47:31.944466Z"
    }
   },
   "outputs": [],
   "source": [
    "array=df.values\n",
    "x=array[:,0:5]\n",
    "y=array[:,5]\n",
    "num_trees=100\n",
    "max_features=4 \n",
    "kfold=KFold(n_splits=10,random_state=42,shuffle=True)\n",
    "model=RandomForestRegressor(n_estimators=num_trees,max_features=max_features)"
   ]
  },
  {
   "cell_type": "code",
   "execution_count": 11,
   "id": "67090c11",
   "metadata": {
    "ExecuteTime": {
     "end_time": "2023-04-29T07:47:33.491258Z",
     "start_time": "2023-04-29T07:47:31.957714Z"
    }
   },
   "outputs": [
    {
     "name": "stdout",
     "output_type": "stream",
     "text": [
      "0.4948213306531536\n"
     ]
    }
   ],
   "source": [
    "results=cross_val_score(model,x,y,cv=kfold)\n",
    "print(results.mean())"
   ]
  },
  {
   "cell_type": "markdown",
   "id": "7961708d",
   "metadata": {},
   "source": [
    "# ADBOOST (company data)\n"
   ]
  },
  {
   "cell_type": "code",
   "execution_count": 12,
   "id": "b4b5096f",
   "metadata": {
    "ExecuteTime": {
     "end_time": "2023-04-29T07:47:33.694004Z",
     "start_time": "2023-04-29T07:47:33.494277Z"
    }
   },
   "outputs": [
    {
     "name": "stdout",
     "output_type": "stream",
     "text": [
      "0.8875\n"
     ]
    }
   ],
   "source": [
    "#classifier\n",
    "x = array[:,0:10]\n",
    "y = array[:,10]\n",
    "\n",
    "num_trees =10\n",
    "kfold = KFold(n_splits=10, random_state=42, shuffle = True)\n",
    "model = AdaBoostClassifier(n_estimators=num_trees, random_state=42)\n",
    "results = cross_val_score(model, x,y , cv=kfold)\n",
    "print(results.mean())"
   ]
  },
  {
   "cell_type": "code",
   "execution_count": 13,
   "id": "1a0938c6",
   "metadata": {
    "ExecuteTime": {
     "end_time": "2023-04-29T07:47:33.900445Z",
     "start_time": "2023-04-29T07:47:33.699960Z"
    }
   },
   "outputs": [
    {
     "name": "stdout",
     "output_type": "stream",
     "text": [
      "0.5207468689896902\n"
     ]
    }
   ],
   "source": [
    "#regressor\n",
    "x = array[:,0:10]\n",
    "y = array[:,10]\n",
    "\n",
    "num_trees =8 \n",
    "kfold = KFold(n_splits=10, random_state=42, shuffle = True)\n",
    "model = AdaBoostRegressor(n_estimators=num_trees, random_state=42)\n",
    "results = cross_val_score(model, x,y , cv=kfold)\n",
    "print(results.mean())"
   ]
  },
  {
   "cell_type": "markdown",
   "id": "6656d85a",
   "metadata": {},
   "source": [
    "# RANDOM FOREST(FRAUD DATA)\n",
    "# CLASSIFIER"
   ]
  },
  {
   "cell_type": "code",
   "execution_count": 14,
   "id": "474df83f",
   "metadata": {
    "ExecuteTime": {
     "end_time": "2023-04-29T07:47:33.916452Z",
     "start_time": "2023-04-29T07:47:33.902411Z"
    }
   },
   "outputs": [],
   "source": [
    "from pandas import read_csv\n",
    "from sklearn import preprocessing\n",
    "from sklearn.model_selection import train_test_split\n",
    "from sklearn.model_selection import KFold\n",
    "from sklearn.model_selection import cross_val_score\n",
    "from sklearn.ensemble import RandomForestClassifier\n",
    "from sklearn.ensemble import RandomForestRegressor\n",
    "from sklearn.ensemble import AdaBoostClassifier\n",
    "from sklearn.ensemble import AdaBoostRegressor"
   ]
  },
  {
   "cell_type": "code",
   "execution_count": 15,
   "id": "4b167314",
   "metadata": {
    "ExecuteTime": {
     "end_time": "2023-04-29T07:47:33.948366Z",
     "start_time": "2023-04-29T07:47:33.919445Z"
    }
   },
   "outputs": [],
   "source": [
    "fraud=read_csv('Fraud_check.csv')"
   ]
  },
  {
   "cell_type": "code",
   "execution_count": 16,
   "id": "73c936ee",
   "metadata": {
    "ExecuteTime": {
     "end_time": "2023-04-29T07:47:33.980287Z",
     "start_time": "2023-04-29T07:47:33.952358Z"
    }
   },
   "outputs": [
    {
     "data": {
      "text/html": [
       "<div>\n",
       "<style scoped>\n",
       "    .dataframe tbody tr th:only-of-type {\n",
       "        vertical-align: middle;\n",
       "    }\n",
       "\n",
       "    .dataframe tbody tr th {\n",
       "        vertical-align: top;\n",
       "    }\n",
       "\n",
       "    .dataframe thead th {\n",
       "        text-align: right;\n",
       "    }\n",
       "</style>\n",
       "<table border=\"1\" class=\"dataframe\">\n",
       "  <thead>\n",
       "    <tr style=\"text-align: right;\">\n",
       "      <th></th>\n",
       "      <th>Undergrad</th>\n",
       "      <th>Marital.Status</th>\n",
       "      <th>Taxable.Income</th>\n",
       "      <th>City.Population</th>\n",
       "      <th>Work.Experience</th>\n",
       "      <th>Urban</th>\n",
       "    </tr>\n",
       "  </thead>\n",
       "  <tbody>\n",
       "    <tr>\n",
       "      <th>0</th>\n",
       "      <td>NO</td>\n",
       "      <td>Single</td>\n",
       "      <td>68833</td>\n",
       "      <td>50047</td>\n",
       "      <td>10</td>\n",
       "      <td>YES</td>\n",
       "    </tr>\n",
       "    <tr>\n",
       "      <th>1</th>\n",
       "      <td>YES</td>\n",
       "      <td>Divorced</td>\n",
       "      <td>33700</td>\n",
       "      <td>134075</td>\n",
       "      <td>18</td>\n",
       "      <td>YES</td>\n",
       "    </tr>\n",
       "    <tr>\n",
       "      <th>2</th>\n",
       "      <td>NO</td>\n",
       "      <td>Married</td>\n",
       "      <td>36925</td>\n",
       "      <td>160205</td>\n",
       "      <td>30</td>\n",
       "      <td>YES</td>\n",
       "    </tr>\n",
       "    <tr>\n",
       "      <th>3</th>\n",
       "      <td>YES</td>\n",
       "      <td>Single</td>\n",
       "      <td>50190</td>\n",
       "      <td>193264</td>\n",
       "      <td>15</td>\n",
       "      <td>YES</td>\n",
       "    </tr>\n",
       "    <tr>\n",
       "      <th>4</th>\n",
       "      <td>NO</td>\n",
       "      <td>Married</td>\n",
       "      <td>81002</td>\n",
       "      <td>27533</td>\n",
       "      <td>28</td>\n",
       "      <td>NO</td>\n",
       "    </tr>\n",
       "    <tr>\n",
       "      <th>...</th>\n",
       "      <td>...</td>\n",
       "      <td>...</td>\n",
       "      <td>...</td>\n",
       "      <td>...</td>\n",
       "      <td>...</td>\n",
       "      <td>...</td>\n",
       "    </tr>\n",
       "    <tr>\n",
       "      <th>595</th>\n",
       "      <td>YES</td>\n",
       "      <td>Divorced</td>\n",
       "      <td>76340</td>\n",
       "      <td>39492</td>\n",
       "      <td>7</td>\n",
       "      <td>YES</td>\n",
       "    </tr>\n",
       "    <tr>\n",
       "      <th>596</th>\n",
       "      <td>YES</td>\n",
       "      <td>Divorced</td>\n",
       "      <td>69967</td>\n",
       "      <td>55369</td>\n",
       "      <td>2</td>\n",
       "      <td>YES</td>\n",
       "    </tr>\n",
       "    <tr>\n",
       "      <th>597</th>\n",
       "      <td>NO</td>\n",
       "      <td>Divorced</td>\n",
       "      <td>47334</td>\n",
       "      <td>154058</td>\n",
       "      <td>0</td>\n",
       "      <td>YES</td>\n",
       "    </tr>\n",
       "    <tr>\n",
       "      <th>598</th>\n",
       "      <td>YES</td>\n",
       "      <td>Married</td>\n",
       "      <td>98592</td>\n",
       "      <td>180083</td>\n",
       "      <td>17</td>\n",
       "      <td>NO</td>\n",
       "    </tr>\n",
       "    <tr>\n",
       "      <th>599</th>\n",
       "      <td>NO</td>\n",
       "      <td>Divorced</td>\n",
       "      <td>96519</td>\n",
       "      <td>158137</td>\n",
       "      <td>16</td>\n",
       "      <td>NO</td>\n",
       "    </tr>\n",
       "  </tbody>\n",
       "</table>\n",
       "<p>600 rows × 6 columns</p>\n",
       "</div>"
      ],
      "text/plain": [
       "    Undergrad Marital.Status  Taxable.Income  City.Population  \\\n",
       "0          NO         Single           68833            50047   \n",
       "1         YES       Divorced           33700           134075   \n",
       "2          NO        Married           36925           160205   \n",
       "3         YES         Single           50190           193264   \n",
       "4          NO        Married           81002            27533   \n",
       "..        ...            ...             ...              ...   \n",
       "595       YES       Divorced           76340            39492   \n",
       "596       YES       Divorced           69967            55369   \n",
       "597        NO       Divorced           47334           154058   \n",
       "598       YES        Married           98592           180083   \n",
       "599        NO       Divorced           96519           158137   \n",
       "\n",
       "     Work.Experience Urban  \n",
       "0                 10   YES  \n",
       "1                 18   YES  \n",
       "2                 30   YES  \n",
       "3                 15   YES  \n",
       "4                 28    NO  \n",
       "..               ...   ...  \n",
       "595                7   YES  \n",
       "596                2   YES  \n",
       "597                0   YES  \n",
       "598               17    NO  \n",
       "599               16    NO  \n",
       "\n",
       "[600 rows x 6 columns]"
      ]
     },
     "execution_count": 16,
     "metadata": {},
     "output_type": "execute_result"
    }
   ],
   "source": [
    "fraud"
   ]
  },
  {
   "cell_type": "code",
   "execution_count": 17,
   "id": "5ef4541f",
   "metadata": {
    "ExecuteTime": {
     "end_time": "2023-04-29T07:47:33.995278Z",
     "start_time": "2023-04-29T07:47:33.983274Z"
    }
   },
   "outputs": [
    {
     "data": {
      "text/plain": [
       "0      0\n",
       "1      1\n",
       "2      0\n",
       "3      1\n",
       "4      0\n",
       "      ..\n",
       "595    1\n",
       "596    1\n",
       "597    0\n",
       "598    1\n",
       "599    0\n",
       "Name: Undergrad, Length: 600, dtype: int32"
      ]
     },
     "execution_count": 17,
     "metadata": {},
     "output_type": "execute_result"
    }
   ],
   "source": [
    "label_encoder=preprocessing.LabelEncoder()\n",
    "fraud['Undergrad']=label_encoder.fit_transform(fraud['Undergrad'])\n",
    "fraud['Undergrad']"
   ]
  },
  {
   "cell_type": "code",
   "execution_count": 18,
   "id": "ef4fb440",
   "metadata": {
    "ExecuteTime": {
     "end_time": "2023-04-29T07:47:34.010234Z",
     "start_time": "2023-04-29T07:47:33.998235Z"
    }
   },
   "outputs": [
    {
     "data": {
      "text/plain": [
       "0      1\n",
       "1      1\n",
       "2      1\n",
       "3      1\n",
       "4      0\n",
       "      ..\n",
       "595    1\n",
       "596    1\n",
       "597    1\n",
       "598    0\n",
       "599    0\n",
       "Name: Urban, Length: 600, dtype: int32"
      ]
     },
     "execution_count": 18,
     "metadata": {},
     "output_type": "execute_result"
    }
   ],
   "source": [
    "label_encoder=preprocessing.LabelEncoder()\n",
    "fraud['Urban']=label_encoder.fit_transform(fraud['Urban'])\n",
    "fraud['Urban']"
   ]
  },
  {
   "cell_type": "code",
   "execution_count": 19,
   "id": "21d48966",
   "metadata": {
    "ExecuteTime": {
     "end_time": "2023-04-29T07:47:34.026159Z",
     "start_time": "2023-04-29T07:47:34.012196Z"
    }
   },
   "outputs": [
    {
     "data": {
      "text/plain": [
       "0      2\n",
       "1      0\n",
       "2      1\n",
       "3      2\n",
       "4      1\n",
       "      ..\n",
       "595    0\n",
       "596    0\n",
       "597    0\n",
       "598    1\n",
       "599    0\n",
       "Name: Marital.Status, Length: 600, dtype: int32"
      ]
     },
     "execution_count": 19,
     "metadata": {},
     "output_type": "execute_result"
    }
   ],
   "source": [
    "label_encoder=preprocessing.LabelEncoder()\n",
    "fraud['Marital.Status']=label_encoder.fit_transform(fraud['Marital.Status'])\n",
    "fraud['Marital.Status']"
   ]
  },
  {
   "cell_type": "code",
   "execution_count": 21,
   "id": "2d556a79",
   "metadata": {
    "ExecuteTime": {
     "end_time": "2023-04-29T07:48:17.665532Z",
     "start_time": "2023-04-29T07:48:17.645540Z"
    }
   },
   "outputs": [],
   "source": [
    "import numpy as np\n",
    "y1=np.empty(600, dtype=object)\n",
    "i=0\n",
    "\n",
    "for value in fraud['Taxable.Income']:\n",
    "    if value<=30000:\n",
    "        y1[i]='Risky'\n",
    "    else:\n",
    "        y1[i]='Good'\n",
    "    i=i+1    "
   ]
  },
  {
   "cell_type": "code",
   "execution_count": null,
   "id": "23d0e55a",
   "metadata": {
    "ExecuteTime": {
     "end_time": "2023-04-29T07:47:34.533076Z",
     "start_time": "2023-04-29T07:47:34.533076Z"
    }
   },
   "outputs": [],
   "source": [
    "t1=pd.DataFrame(y1,columns=['Target'])\n",
    "t1"
   ]
  },
  {
   "cell_type": "code",
   "execution_count": null,
   "id": "5058a59c",
   "metadata": {
    "ExecuteTime": {
     "end_time": "2023-04-29T07:47:34.534074Z",
     "start_time": "2023-04-29T07:47:34.534074Z"
    }
   },
   "outputs": [],
   "source": [
    "fraud = pd.concat([fraud,t1],axis=1)\n",
    "fraud.head()\n"
   ]
  },
  {
   "cell_type": "code",
   "execution_count": null,
   "id": "b78a4352",
   "metadata": {
    "ExecuteTime": {
     "end_time": "2023-04-29T07:47:34.535071Z",
     "start_time": "2023-04-29T07:47:34.535071Z"
    }
   },
   "outputs": [],
   "source": [
    "fraud.drop(['City.Population'], axis = 1)"
   ]
  },
  {
   "cell_type": "code",
   "execution_count": null,
   "id": "4474c4df",
   "metadata": {
    "ExecuteTime": {
     "end_time": "2023-04-29T07:47:34.537105Z",
     "start_time": "2023-04-29T07:47:34.537105Z"
    }
   },
   "outputs": [],
   "source": [
    "array=fraud.values\n",
    "x=array[:,0:6]\n",
    "y=array[:,6]"
   ]
  },
  {
   "cell_type": "code",
   "execution_count": 27,
   "id": "d0f0d341",
   "metadata": {
    "ExecuteTime": {
     "end_time": "2023-04-29T07:49:26.723448Z",
     "start_time": "2023-04-29T07:49:26.704525Z"
    }
   },
   "outputs": [],
   "source": [
    "num_trees=100\n",
    "max_features=5"
   ]
  },
  {
   "cell_type": "code",
   "execution_count": 28,
   "id": "b93f4376",
   "metadata": {
    "ExecuteTime": {
     "end_time": "2023-04-29T07:49:29.039892Z",
     "start_time": "2023-04-29T07:49:29.023845Z"
    }
   },
   "outputs": [],
   "source": [
    "kfold=KFold(n_splits=10,random_state=42,shuffle=True)"
   ]
  },
  {
   "cell_type": "code",
   "execution_count": 29,
   "id": "db8f0111",
   "metadata": {
    "ExecuteTime": {
     "end_time": "2023-04-29T07:49:31.582657Z",
     "start_time": "2023-04-29T07:49:31.573238Z"
    }
   },
   "outputs": [],
   "source": [
    "model=RandomForestClassifier(n_estimators=num_trees,max_features=max_features)"
   ]
  },
  {
   "cell_type": "code",
   "execution_count": 30,
   "id": "af05b655",
   "metadata": {
    "ExecuteTime": {
     "end_time": "2023-04-29T07:49:35.640324Z",
     "start_time": "2023-04-29T07:49:34.270896Z"
    }
   },
   "outputs": [
    {
     "name": "stdout",
     "output_type": "stream",
     "text": [
      "0.9025000000000001\n"
     ]
    }
   ],
   "source": [
    "results=cross_val_score(model,x,y,cv=kfold)\n",
    "print(results.mean())"
   ]
  },
  {
   "cell_type": "markdown",
   "id": "e0656e75",
   "metadata": {},
   "source": [
    "# RANDOM FOREST(FRAUD CHECK)\n",
    "# regressor"
   ]
  },
  {
   "cell_type": "code",
   "execution_count": null,
   "id": "e1418704",
   "metadata": {
    "ExecuteTime": {
     "end_time": "2023-04-29T07:47:34.544047Z",
     "start_time": "2023-04-29T07:47:34.544047Z"
    }
   },
   "outputs": [],
   "source": [
    "array=fraud.values\n",
    "x=array[:,0:4]\n",
    "y=array[:,4]"
   ]
  },
  {
   "cell_type": "code",
   "execution_count": null,
   "id": "79dc5b2b",
   "metadata": {
    "ExecuteTime": {
     "end_time": "2023-04-29T07:47:34.546042Z",
     "start_time": "2023-04-29T07:47:34.546042Z"
    }
   },
   "outputs": [],
   "source": [
    "num_trees=100\n",
    "max_features=4 "
   ]
  },
  {
   "cell_type": "code",
   "execution_count": null,
   "id": "ee454d64",
   "metadata": {
    "ExecuteTime": {
     "end_time": "2023-04-29T07:47:34.547040Z",
     "start_time": "2023-04-29T07:47:34.547040Z"
    }
   },
   "outputs": [],
   "source": [
    "kfold=KFold(n_splits=10,random_state=42,shuffle=True)\n",
    "model=RandomForestRegressor(n_estimators=num_trees,max_features=max_features)"
   ]
  },
  {
   "cell_type": "code",
   "execution_count": 31,
   "id": "1e0e57e9",
   "metadata": {
    "ExecuteTime": {
     "end_time": "2023-04-29T07:49:51.963065Z",
     "start_time": "2023-04-29T07:49:50.655722Z"
    }
   },
   "outputs": [
    {
     "name": "stdout",
     "output_type": "stream",
     "text": [
      "0.905\n"
     ]
    }
   ],
   "source": [
    "results=cross_val_score(model,x,y,cv=kfold)\n",
    "print(results.mean())"
   ]
  },
  {
   "cell_type": "markdown",
   "id": "84707648",
   "metadata": {},
   "source": [
    "# ADABOOST (fraudcheck data)"
   ]
  },
  {
   "cell_type": "code",
   "execution_count": null,
   "id": "d238d7e4",
   "metadata": {
    "ExecuteTime": {
     "end_time": "2023-04-29T07:47:34.551029Z",
     "start_time": "2023-04-29T07:47:34.551029Z"
    }
   },
   "outputs": [],
   "source": [
    "#classifier\n",
    "x = array[:,0:10]\n",
    "y = array[:,10]\n",
    "\n",
    "num_trees =10\n",
    "kfold = KFold(n_splits=10, random_state=42, shuffle = True)\n",
    "model = AdaBoostClassifier(n_estimators=num_trees, random_state=42)\n",
    "results = cross_val_score(model, x, y, cv=kfold)\n",
    "print(results.mean())"
   ]
  },
  {
   "cell_type": "code",
   "execution_count": null,
   "id": "897b4a5a",
   "metadata": {
    "ExecuteTime": {
     "end_time": "2023-04-29T07:47:34.553023Z",
     "start_time": "2023-04-29T07:47:34.553023Z"
    }
   },
   "outputs": [],
   "source": [
    "#regressor\n",
    "x = array[:,0:10]\n",
    "y = array[:,10]\n",
    "\n",
    "num_trees =10\n",
    "kfold = KFold(n_splits=10, random_state=42, shuffle = True)\n",
    "model = AdaBoostRegressor(n_estimators=num_trees, random_state=42)\n",
    "results = cross_val_score(model, x, y, cv=kfold)\n",
    "print(results.mean())"
   ]
  },
  {
   "cell_type": "code",
   "execution_count": null,
   "id": "ee26d5c4",
   "metadata": {},
   "outputs": [],
   "source": []
  }
 ],
 "metadata": {
  "kernelspec": {
   "display_name": "Python 3 (ipykernel)",
   "language": "python",
   "name": "python3"
  },
  "language_info": {
   "codemirror_mode": {
    "name": "ipython",
    "version": 3
   },
   "file_extension": ".py",
   "mimetype": "text/x-python",
   "name": "python",
   "nbconvert_exporter": "python",
   "pygments_lexer": "ipython3",
   "version": "3.9.13"
  }
 },
 "nbformat": 4,
 "nbformat_minor": 5
}
