{
 "cells": [
  {
   "cell_type": "markdown",
   "id": "ba5918d1",
   "metadata": {},
   "source": [
    "# Hypothesis testing\n",
    "# Q1"
   ]
  },
  {
   "cell_type": "code",
   "execution_count": 1,
   "id": "97c854a3",
   "metadata": {
    "ExecuteTime": {
     "end_time": "2023-05-25T12:26:53.057057Z",
     "start_time": "2023-05-25T12:26:51.692690Z"
    }
   },
   "outputs": [],
   "source": [
    "#Q1\n",
    "from scipy import stats\n",
    "import pandas as pd\n",
    "import numpy as np\n",
    "import math as mt"
   ]
  },
  {
   "cell_type": "code",
   "execution_count": 2,
   "id": "34e3237a",
   "metadata": {
    "ExecuteTime": {
     "end_time": "2023-05-25T12:27:20.289249Z",
     "start_time": "2023-05-25T12:27:20.198493Z"
    }
   },
   "outputs": [
    {
     "data": {
      "text/html": [
       "<div>\n",
       "<style scoped>\n",
       "    .dataframe tbody tr th:only-of-type {\n",
       "        vertical-align: middle;\n",
       "    }\n",
       "\n",
       "    .dataframe tbody tr th {\n",
       "        vertical-align: top;\n",
       "    }\n",
       "\n",
       "    .dataframe thead th {\n",
       "        text-align: right;\n",
       "    }\n",
       "</style>\n",
       "<table border=\"1\" class=\"dataframe\">\n",
       "  <thead>\n",
       "    <tr style=\"text-align: right;\">\n",
       "      <th></th>\n",
       "      <th>Unit A</th>\n",
       "      <th>Unit B</th>\n",
       "    </tr>\n",
       "  </thead>\n",
       "  <tbody>\n",
       "    <tr>\n",
       "      <th>0</th>\n",
       "      <td>6.8090</td>\n",
       "      <td>6.7703</td>\n",
       "    </tr>\n",
       "    <tr>\n",
       "      <th>1</th>\n",
       "      <td>6.4376</td>\n",
       "      <td>7.5093</td>\n",
       "    </tr>\n",
       "    <tr>\n",
       "      <th>2</th>\n",
       "      <td>6.9157</td>\n",
       "      <td>6.7300</td>\n",
       "    </tr>\n",
       "    <tr>\n",
       "      <th>3</th>\n",
       "      <td>7.3012</td>\n",
       "      <td>6.7878</td>\n",
       "    </tr>\n",
       "    <tr>\n",
       "      <th>4</th>\n",
       "      <td>7.4488</td>\n",
       "      <td>7.1522</td>\n",
       "    </tr>\n",
       "  </tbody>\n",
       "</table>\n",
       "</div>"
      ],
      "text/plain": [
       "   Unit A  Unit B\n",
       "0  6.8090  6.7703\n",
       "1  6.4376  7.5093\n",
       "2  6.9157  6.7300\n",
       "3  7.3012  6.7878\n",
       "4  7.4488  7.1522"
      ]
     },
     "execution_count": 2,
     "metadata": {},
     "output_type": "execute_result"
    }
   ],
   "source": [
    "df = pd.read_csv('Cutlets (1).csv')\n",
    "df.head()"
   ]
  },
  {
   "cell_type": "code",
   "execution_count": 3,
   "id": "e70be4c9",
   "metadata": {
    "ExecuteTime": {
     "end_time": "2023-05-25T12:27:42.587410Z",
     "start_time": "2023-05-25T12:27:42.540281Z"
    }
   },
   "outputs": [
    {
     "data": {
      "text/plain": [
       "Ttest_indResult(statistic=0.7228688704678063, pvalue=0.4722394724599501)"
      ]
     },
     "execution_count": 3,
     "metadata": {},
     "output_type": "execute_result"
    }
   ],
   "source": [
    "#Calculating pvalue with t-test\n",
    "stats.ttest_ind(df['Unit A'],df['Unit B'])"
   ]
  },
  {
   "cell_type": "code",
   "execution_count": 5,
   "id": "6b4d43b0",
   "metadata": {
    "ExecuteTime": {
     "end_time": "2023-05-25T12:29:01.328384Z",
     "start_time": "2023-05-25T12:29:01.306921Z"
    }
   },
   "outputs": [],
   "source": [
    "#Final Statement : as we can see above the pvalue we have got is 0.4722 \n",
    "#which is greater then alpha valve we will fail to reject the Null hypothesis here\n",
    "#pvalue > alpha (0.4722 > 0.05)\n",
    "#Accept H0 => There is no difference in the diameter of the cutlets of Unit A and B"
   ]
  },
  {
   "cell_type": "markdown",
   "id": "b0ab2e18",
   "metadata": {},
   "source": [
    "# Q2"
   ]
  },
  {
   "cell_type": "code",
   "execution_count": 6,
   "id": "6b4dba9e",
   "metadata": {
    "ExecuteTime": {
     "end_time": "2023-05-25T12:29:57.377788Z",
     "start_time": "2023-05-25T12:29:57.309013Z"
    }
   },
   "outputs": [
    {
     "data": {
      "text/html": [
       "<div>\n",
       "<style scoped>\n",
       "    .dataframe tbody tr th:only-of-type {\n",
       "        vertical-align: middle;\n",
       "    }\n",
       "\n",
       "    .dataframe tbody tr th {\n",
       "        vertical-align: top;\n",
       "    }\n",
       "\n",
       "    .dataframe thead th {\n",
       "        text-align: right;\n",
       "    }\n",
       "</style>\n",
       "<table border=\"1\" class=\"dataframe\">\n",
       "  <thead>\n",
       "    <tr style=\"text-align: right;\">\n",
       "      <th></th>\n",
       "      <th>Laboratory 1</th>\n",
       "      <th>Laboratory 2</th>\n",
       "      <th>Laboratory 3</th>\n",
       "      <th>Laboratory 4</th>\n",
       "    </tr>\n",
       "  </thead>\n",
       "  <tbody>\n",
       "    <tr>\n",
       "      <th>0</th>\n",
       "      <td>185.35</td>\n",
       "      <td>165.53</td>\n",
       "      <td>176.70</td>\n",
       "      <td>166.13</td>\n",
       "    </tr>\n",
       "    <tr>\n",
       "      <th>1</th>\n",
       "      <td>170.49</td>\n",
       "      <td>185.91</td>\n",
       "      <td>198.45</td>\n",
       "      <td>160.79</td>\n",
       "    </tr>\n",
       "    <tr>\n",
       "      <th>2</th>\n",
       "      <td>192.77</td>\n",
       "      <td>194.92</td>\n",
       "      <td>201.23</td>\n",
       "      <td>185.18</td>\n",
       "    </tr>\n",
       "    <tr>\n",
       "      <th>3</th>\n",
       "      <td>177.33</td>\n",
       "      <td>183.00</td>\n",
       "      <td>199.61</td>\n",
       "      <td>176.42</td>\n",
       "    </tr>\n",
       "    <tr>\n",
       "      <th>4</th>\n",
       "      <td>193.41</td>\n",
       "      <td>169.57</td>\n",
       "      <td>204.63</td>\n",
       "      <td>152.60</td>\n",
       "    </tr>\n",
       "  </tbody>\n",
       "</table>\n",
       "</div>"
      ],
      "text/plain": [
       "   Laboratory 1  Laboratory 2  Laboratory 3  Laboratory 4\n",
       "0        185.35        165.53        176.70        166.13\n",
       "1        170.49        185.91        198.45        160.79\n",
       "2        192.77        194.92        201.23        185.18\n",
       "3        177.33        183.00        199.61        176.42\n",
       "4        193.41        169.57        204.63        152.60"
      ]
     },
     "execution_count": 6,
     "metadata": {},
     "output_type": "execute_result"
    }
   ],
   "source": [
    "#Q2\n",
    "import scipy.stats as stats\n",
    "df1 = pd.read_csv('LabTAT.csv')\n",
    "df1.head()"
   ]
  },
  {
   "cell_type": "code",
   "execution_count": 7,
   "id": "f5d9efab",
   "metadata": {
    "ExecuteTime": {
     "end_time": "2023-05-25T12:30:21.066250Z",
     "start_time": "2023-05-25T12:30:21.024363Z"
    }
   },
   "outputs": [
    {
     "data": {
      "text/plain": [
       "F_onewayResult(statistic=118.70421654401437, pvalue=2.1156708949992414e-57)"
      ]
     },
     "execution_count": 7,
     "metadata": {},
     "output_type": "execute_result"
    }
   ],
   "source": [
    "#Calculating pvalue with the help of F-ratio\n",
    "stats.f_oneway(df1.iloc[:,0], df1.iloc[:,1], df1.iloc[:,2], df1.iloc[:,3])\n"
   ]
  },
  {
   "cell_type": "code",
   "execution_count": 8,
   "id": "c4b04c50",
   "metadata": {
    "ExecuteTime": {
     "end_time": "2023-05-25T12:31:07.232847Z",
     "start_time": "2023-05-25T12:31:07.221841Z"
    }
   },
   "outputs": [],
   "source": [
    "#Final Statement : as we can see above pvalue = 2.11 x 10 raise to -57 \n",
    "#which is almost 0 and lesser than alpha value hence we reject H0 (Null hypothesis)\n",
    "\n",
    "#pvalue < alpha ( 2.11 x 10 raise to -57 < 0.05)\n",
    "\n",
    "#Accept Ha => At least 1 Lab's Average TAT is different // Not all the averages are same"
   ]
  },
  {
   "cell_type": "markdown",
   "id": "f8edd994",
   "metadata": {},
   "source": [
    "# Q3"
   ]
  },
  {
   "cell_type": "code",
   "execution_count": 13,
   "id": "7f54d307",
   "metadata": {
    "ExecuteTime": {
     "end_time": "2023-05-25T12:33:34.481925Z",
     "start_time": "2023-05-25T12:33:29.730390Z"
    }
   },
   "outputs": [
    {
     "name": "stdout",
     "output_type": "stream",
     "text": [
      "Requirement already satisfied: bioinfokit in c:\\users\\rama krishna\\anaconda3\\lib\\site-packages (2.1.0)\n",
      "Requirement already satisfied: scipy in c:\\users\\rama krishna\\anaconda3\\lib\\site-packages (from bioinfokit) (1.9.1)\n",
      "Requirement already satisfied: matplotlib in c:\\users\\rama krishna\\anaconda3\\lib\\site-packages (from bioinfokit) (3.5.2)\n",
      "Requirement already satisfied: textwrap3 in c:\\users\\rama krishna\\anaconda3\\lib\\site-packages (from bioinfokit) (0.9.2)\n",
      "Requirement already satisfied: seaborn in c:\\users\\rama krishna\\anaconda3\\lib\\site-packages (from bioinfokit) (0.11.2)\n",
      "Requirement already satisfied: statsmodels in c:\\users\\rama krishna\\anaconda3\\lib\\site-packages (from bioinfokit) (0.13.2)\n",
      "Requirement already satisfied: numpy in c:\\users\\rama krishna\\anaconda3\\lib\\site-packages (from bioinfokit) (1.23.5)\n",
      "Requirement already satisfied: adjustText in c:\\users\\rama krishna\\anaconda3\\lib\\site-packages (from bioinfokit) (0.8)\n",
      "Requirement already satisfied: matplotlib-venn in c:\\users\\rama krishna\\anaconda3\\lib\\site-packages (from bioinfokit) (0.11.9)\n",
      "Requirement already satisfied: scikit-learn in c:\\users\\rama krishna\\anaconda3\\lib\\site-packages (from bioinfokit) (1.1.2)\n",
      "Requirement already satisfied: tabulate in c:\\users\\rama krishna\\anaconda3\\lib\\site-packages (from bioinfokit) (0.8.10)\n",
      "Requirement already satisfied: pandas in c:\\users\\rama krishna\\anaconda3\\lib\\site-packages (from bioinfokit) (1.5.3)\n",
      "Requirement already satisfied: pyparsing>=2.2.1 in c:\\users\\rama krishna\\anaconda3\\lib\\site-packages (from matplotlib->bioinfokit) (3.0.9)\n",
      "Requirement already satisfied: pillow>=6.2.0 in c:\\users\\rama krishna\\anaconda3\\lib\\site-packages (from matplotlib->bioinfokit) (9.2.0)\n",
      "Requirement already satisfied: kiwisolver>=1.0.1 in c:\\users\\rama krishna\\anaconda3\\lib\\site-packages (from matplotlib->bioinfokit) (1.4.2)\n",
      "Requirement already satisfied: python-dateutil>=2.7 in c:\\users\\rama krishna\\anaconda3\\lib\\site-packages (from matplotlib->bioinfokit) (2.8.2)\n",
      "Requirement already satisfied: cycler>=0.10 in c:\\users\\rama krishna\\anaconda3\\lib\\site-packages (from matplotlib->bioinfokit) (0.11.0)\n",
      "Requirement already satisfied: packaging>=20.0 in c:\\users\\rama krishna\\anaconda3\\lib\\site-packages (from matplotlib->bioinfokit) (21.3)\n",
      "Requirement already satisfied: fonttools>=4.22.0 in c:\\users\\rama krishna\\anaconda3\\lib\\site-packages (from matplotlib->bioinfokit) (4.25.0)\n",
      "Requirement already satisfied: pytz>=2020.1 in c:\\users\\rama krishna\\anaconda3\\lib\\site-packages (from pandas->bioinfokit) (2022.1)\n",
      "Requirement already satisfied: threadpoolctl>=2.0.0 in c:\\users\\rama krishna\\anaconda3\\lib\\site-packages (from scikit-learn->bioinfokit) (3.1.0)\n",
      "Requirement already satisfied: joblib>=1.0.0 in c:\\users\\rama krishna\\anaconda3\\lib\\site-packages (from scikit-learn->bioinfokit) (1.2.0)\n",
      "Requirement already satisfied: patsy>=0.5.2 in c:\\users\\rama krishna\\anaconda3\\lib\\site-packages (from statsmodels->bioinfokit) (0.5.2)\n",
      "Requirement already satisfied: six in c:\\users\\rama krishna\\anaconda3\\lib\\site-packages (from patsy>=0.5.2->statsmodels->bioinfokit) (1.16.0)\n"
     ]
    },
    {
     "data": {
      "text/html": [
       "<div>\n",
       "<style scoped>\n",
       "    .dataframe tbody tr th:only-of-type {\n",
       "        vertical-align: middle;\n",
       "    }\n",
       "\n",
       "    .dataframe tbody tr th {\n",
       "        vertical-align: top;\n",
       "    }\n",
       "\n",
       "    .dataframe thead th {\n",
       "        text-align: right;\n",
       "    }\n",
       "</style>\n",
       "<table border=\"1\" class=\"dataframe\">\n",
       "  <thead>\n",
       "    <tr style=\"text-align: right;\">\n",
       "      <th></th>\n",
       "      <th>East</th>\n",
       "      <th>West</th>\n",
       "      <th>North</th>\n",
       "      <th>South</th>\n",
       "    </tr>\n",
       "  </thead>\n",
       "  <tbody>\n",
       "    <tr>\n",
       "      <th>Male</th>\n",
       "      <td>50</td>\n",
       "      <td>142</td>\n",
       "      <td>131</td>\n",
       "      <td>70</td>\n",
       "    </tr>\n",
       "    <tr>\n",
       "      <th>Female</th>\n",
       "      <td>435</td>\n",
       "      <td>1523</td>\n",
       "      <td>1356</td>\n",
       "      <td>750</td>\n",
       "    </tr>\n",
       "  </tbody>\n",
       "</table>\n",
       "</div>"
      ],
      "text/plain": [
       "        East  West  North  South\n",
       "Male      50   142    131     70\n",
       "Female   435  1523   1356    750"
      ]
     },
     "execution_count": 13,
     "metadata": {},
     "output_type": "execute_result"
    }
   ],
   "source": [
    "#Q3\n",
    "!pip install bioinfokit\n",
    "from bioinfokit.analys import stat\n",
    "data = pd.DataFrame([\n",
    "    [50, 142, 131, 70],\n",
    "    [435, 1523, 1356, 750]], \n",
    "    index = ['Male', 'Female'], columns = ['East', 'West', 'North', 'South'])\n",
    "data\n"
   ]
  },
  {
   "cell_type": "code",
   "execution_count": 14,
   "id": "51ca35e2",
   "metadata": {
    "ExecuteTime": {
     "end_time": "2023-05-25T12:33:39.039440Z",
     "start_time": "2023-05-25T12:33:39.000545Z"
    }
   },
   "outputs": [
    {
     "name": "stdout",
     "output_type": "stream",
     "text": [
      "\n",
      "Chi-squared test for independence\n",
      "\n",
      "Test              Df    Chi-square    P-value\n",
      "--------------  ----  ------------  ---------\n",
      "Pearson            3       1.59595   0.660309\n",
      "Log-likelihood     3       1.53541   0.674123\n",
      "\n"
     ]
    }
   ],
   "source": [
    "# run chi-square test for independence\n",
    "res = stat()\n",
    "res.chisq(df=data)\n",
    "print(res.summary)\n",
    "\n",
    "\n"
   ]
  },
  {
   "cell_type": "code",
   "execution_count": 15,
   "id": "00dad696",
   "metadata": {
    "ExecuteTime": {
     "end_time": "2023-05-25T12:33:43.350409Z",
     "start_time": "2023-05-25T12:33:43.334423Z"
    }
   },
   "outputs": [
    {
     "name": "stdout",
     "output_type": "stream",
     "text": [
      "\n",
      "Expected frequency counts\n",
      "\n",
      "        East      West     North     South\n",
      "--  --------  --------  --------  --------\n",
      " 0   42.7653   146.813   131.118   72.3042\n",
      " 1  442.235   1518.19   1355.88   747.696\n",
      "\n"
     ]
    }
   ],
   "source": [
    "print(res.expected_df)"
   ]
  },
  {
   "cell_type": "code",
   "execution_count": 16,
   "id": "e3cc31b3",
   "metadata": {
    "ExecuteTime": {
     "end_time": "2023-05-25T12:34:04.922082Z",
     "start_time": "2023-05-25T12:34:04.889205Z"
    }
   },
   "outputs": [
    {
     "data": {
      "text/plain": [
       "(1.595945538661058,\n",
       " 0.6603094907091882,\n",
       " 3,\n",
       " array([[  42.76531299,  146.81287862,  131.11756787,   72.30424052],\n",
       "        [ 442.23468701, 1518.18712138, 1355.88243213,  747.69575948]]))"
      ]
     },
     "execution_count": 16,
     "metadata": {},
     "output_type": "execute_result"
    }
   ],
   "source": [
    "# using chi2_contingency function from scipy package\n",
    "import numpy as np\n",
    "from scipy.stats import chi2_contingency \n",
    "# using Pearson’s chi-squared statistic\n",
    "# corrected for the Yates’ continuity\n",
    "observed = np.array([[50, 142, 131, 70], [435, 1523, 1356, 750]])\n",
    "chi_val, p_val, dof, expected =  chi2_contingency(observed)\n",
    "\n",
    "chi_val, p_val, dof, expected"
   ]
  },
  {
   "cell_type": "code",
   "execution_count": 17,
   "id": "eb73d630",
   "metadata": {
    "ExecuteTime": {
     "end_time": "2023-05-25T12:34:31.766562Z",
     "start_time": "2023-05-25T12:34:31.746615Z"
    }
   },
   "outputs": [
    {
     "data": {
      "text/plain": [
       "(1.595945538661058,\n",
       " 0.6603094907091882,\n",
       " 3,\n",
       " array([[  42.76531299,  146.81287862,  131.11756787,   72.30424052],\n",
       "        [ 442.23468701, 1518.18712138, 1355.88243213,  747.69575948]]))"
      ]
     },
     "execution_count": 17,
     "metadata": {},
     "output_type": "execute_result"
    }
   ],
   "source": [
    "# without Yates’ correction for continuity\n",
    "chi_val, p_val, dof, expected =  chi2_contingency(observed, correction=False)\n",
    "chi_val, p_val, dof, expected\n"
   ]
  },
  {
   "cell_type": "code",
   "execution_count": 18,
   "id": "4788d62e",
   "metadata": {
    "ExecuteTime": {
     "end_time": "2023-05-25T12:34:33.833933Z",
     "start_time": "2023-05-25T12:34:33.809997Z"
    }
   },
   "outputs": [
    {
     "data": {
      "text/plain": [
       "(1.5354067803116846,\n",
       " 0.6741229013112389,\n",
       " 3,\n",
       " array([[  42.76531299,  146.81287862,  131.11756787,   72.30424052],\n",
       "        [ 442.23468701, 1518.18712138, 1355.88243213,  747.69575948]]))"
      ]
     },
     "execution_count": 18,
     "metadata": {},
     "output_type": "execute_result"
    }
   ],
   "source": [
    "# for log-likelihood method \n",
    "chi_val, p_val, dof, expected =  chi2_contingency(observed, lambda_=\"log-likelihood\")\n",
    "chi_val, p_val, dof, expected"
   ]
  },
  {
   "cell_type": "code",
   "execution_count": 19,
   "id": "32e6bbdb",
   "metadata": {
    "ExecuteTime": {
     "end_time": "2023-05-25T12:35:03.108892Z",
     "start_time": "2023-05-25T12:35:03.096884Z"
    }
   },
   "outputs": [],
   "source": [
    "#Final Statement : as we can see above pvalue is greater than alpha hence we will fail to reject H0 (Null hypothesis) here.\n",
    "\n",
    "#pvalue > alpha => (0.66 > 0.05)\n",
    "\n",
    "#Accept H0 => The male-female buyer ratios are similar across the regions / All proportions are equal\n"
   ]
  },
  {
   "cell_type": "markdown",
   "id": "a8285fd6",
   "metadata": {},
   "source": [
    "# Q4"
   ]
  },
  {
   "cell_type": "code",
   "execution_count": 20,
   "id": "a6f4a466",
   "metadata": {
    "ExecuteTime": {
     "end_time": "2023-05-25T12:35:51.401396Z",
     "start_time": "2023-05-25T12:35:51.331577Z"
    }
   },
   "outputs": [
    {
     "data": {
      "text/html": [
       "<div>\n",
       "<style scoped>\n",
       "    .dataframe tbody tr th:only-of-type {\n",
       "        vertical-align: middle;\n",
       "    }\n",
       "\n",
       "    .dataframe tbody tr th {\n",
       "        vertical-align: top;\n",
       "    }\n",
       "\n",
       "    .dataframe thead th {\n",
       "        text-align: right;\n",
       "    }\n",
       "</style>\n",
       "<table border=\"1\" class=\"dataframe\">\n",
       "  <thead>\n",
       "    <tr style=\"text-align: right;\">\n",
       "      <th></th>\n",
       "      <th>Phillippines</th>\n",
       "      <th>Indonesia</th>\n",
       "      <th>Malta</th>\n",
       "      <th>India</th>\n",
       "    </tr>\n",
       "  </thead>\n",
       "  <tbody>\n",
       "    <tr>\n",
       "      <th>0</th>\n",
       "      <td>Error Free</td>\n",
       "      <td>Error Free</td>\n",
       "      <td>Defective</td>\n",
       "      <td>Error Free</td>\n",
       "    </tr>\n",
       "    <tr>\n",
       "      <th>1</th>\n",
       "      <td>Error Free</td>\n",
       "      <td>Error Free</td>\n",
       "      <td>Error Free</td>\n",
       "      <td>Defective</td>\n",
       "    </tr>\n",
       "    <tr>\n",
       "      <th>2</th>\n",
       "      <td>Error Free</td>\n",
       "      <td>Defective</td>\n",
       "      <td>Defective</td>\n",
       "      <td>Error Free</td>\n",
       "    </tr>\n",
       "    <tr>\n",
       "      <th>3</th>\n",
       "      <td>Error Free</td>\n",
       "      <td>Error Free</td>\n",
       "      <td>Error Free</td>\n",
       "      <td>Error Free</td>\n",
       "    </tr>\n",
       "    <tr>\n",
       "      <th>4</th>\n",
       "      <td>Error Free</td>\n",
       "      <td>Error Free</td>\n",
       "      <td>Defective</td>\n",
       "      <td>Error Free</td>\n",
       "    </tr>\n",
       "  </tbody>\n",
       "</table>\n",
       "</div>"
      ],
      "text/plain": [
       "  Phillippines   Indonesia       Malta       India\n",
       "0   Error Free  Error Free   Defective  Error Free\n",
       "1   Error Free  Error Free  Error Free   Defective\n",
       "2   Error Free   Defective   Defective  Error Free\n",
       "3   Error Free  Error Free  Error Free  Error Free\n",
       "4   Error Free  Error Free   Defective  Error Free"
      ]
     },
     "execution_count": 20,
     "metadata": {},
     "output_type": "execute_result"
    }
   ],
   "source": [
    "#Q4\n",
    "df2 = pd.read_csv('Costomer+OrderForm.csv')\n",
    "df2.head()"
   ]
  },
  {
   "cell_type": "code",
   "execution_count": 21,
   "id": "5b18aeee",
   "metadata": {
    "ExecuteTime": {
     "end_time": "2023-05-25T12:36:23.309491Z",
     "start_time": "2023-05-25T12:36:23.240501Z"
    }
   },
   "outputs": [
    {
     "data": {
      "text/html": [
       "<div>\n",
       "<style scoped>\n",
       "    .dataframe tbody tr th:only-of-type {\n",
       "        vertical-align: middle;\n",
       "    }\n",
       "\n",
       "    .dataframe tbody tr th {\n",
       "        vertical-align: top;\n",
       "    }\n",
       "\n",
       "    .dataframe thead th {\n",
       "        text-align: right;\n",
       "    }\n",
       "</style>\n",
       "<table border=\"1\" class=\"dataframe\">\n",
       "  <thead>\n",
       "    <tr style=\"text-align: right;\">\n",
       "      <th></th>\n",
       "      <th>Phillippines</th>\n",
       "      <th>Indonesia</th>\n",
       "      <th>Malta</th>\n",
       "      <th>India</th>\n",
       "    </tr>\n",
       "  </thead>\n",
       "  <tbody>\n",
       "    <tr>\n",
       "      <th>count</th>\n",
       "      <td>300</td>\n",
       "      <td>300</td>\n",
       "      <td>300</td>\n",
       "      <td>300</td>\n",
       "    </tr>\n",
       "    <tr>\n",
       "      <th>unique</th>\n",
       "      <td>2</td>\n",
       "      <td>2</td>\n",
       "      <td>2</td>\n",
       "      <td>2</td>\n",
       "    </tr>\n",
       "    <tr>\n",
       "      <th>top</th>\n",
       "      <td>Error Free</td>\n",
       "      <td>Error Free</td>\n",
       "      <td>Error Free</td>\n",
       "      <td>Error Free</td>\n",
       "    </tr>\n",
       "    <tr>\n",
       "      <th>freq</th>\n",
       "      <td>271</td>\n",
       "      <td>267</td>\n",
       "      <td>269</td>\n",
       "      <td>280</td>\n",
       "    </tr>\n",
       "  </tbody>\n",
       "</table>\n",
       "</div>"
      ],
      "text/plain": [
       "       Phillippines   Indonesia       Malta       India\n",
       "count           300         300         300         300\n",
       "unique            2           2           2           2\n",
       "top      Error Free  Error Free  Error Free  Error Free\n",
       "freq            271         267         269         280"
      ]
     },
     "execution_count": 21,
     "metadata": {},
     "output_type": "execute_result"
    }
   ],
   "source": [
    "df2.describe()\n"
   ]
  },
  {
   "cell_type": "code",
   "execution_count": 22,
   "id": "c3096f80",
   "metadata": {
    "ExecuteTime": {
     "end_time": "2023-05-25T12:36:29.657897Z",
     "start_time": "2023-05-25T12:36:29.607073Z"
    }
   },
   "outputs": [
    {
     "name": "stdout",
     "output_type": "stream",
     "text": [
      "<class 'pandas.core.frame.DataFrame'>\n",
      "RangeIndex: 300 entries, 0 to 299\n",
      "Data columns (total 4 columns):\n",
      " #   Column        Non-Null Count  Dtype \n",
      "---  ------        --------------  ----- \n",
      " 0   Phillippines  300 non-null    object\n",
      " 1   Indonesia     300 non-null    object\n",
      " 2   Malta         300 non-null    object\n",
      " 3   India         300 non-null    object\n",
      "dtypes: object(4)\n",
      "memory usage: 9.5+ KB\n"
     ]
    }
   ],
   "source": [
    "df2.info()"
   ]
  },
  {
   "cell_type": "code",
   "execution_count": 23,
   "id": "90552dbc",
   "metadata": {
    "ExecuteTime": {
     "end_time": "2023-05-25T12:36:33.919874Z",
     "start_time": "2023-05-25T12:36:33.877979Z"
    }
   },
   "outputs": [
    {
     "data": {
      "text/html": [
       "<div>\n",
       "<style scoped>\n",
       "    .dataframe tbody tr th:only-of-type {\n",
       "        vertical-align: middle;\n",
       "    }\n",
       "\n",
       "    .dataframe tbody tr th {\n",
       "        vertical-align: top;\n",
       "    }\n",
       "\n",
       "    .dataframe thead th {\n",
       "        text-align: right;\n",
       "    }\n",
       "</style>\n",
       "<table border=\"1\" class=\"dataframe\">\n",
       "  <thead>\n",
       "    <tr style=\"text-align: right;\">\n",
       "      <th></th>\n",
       "      <th>Phillippines</th>\n",
       "      <th>Indonesia</th>\n",
       "      <th>Malta</th>\n",
       "      <th>India</th>\n",
       "    </tr>\n",
       "  </thead>\n",
       "  <tbody>\n",
       "    <tr>\n",
       "      <th>Error Free</th>\n",
       "      <td>271</td>\n",
       "      <td>267</td>\n",
       "      <td>269</td>\n",
       "      <td>280</td>\n",
       "    </tr>\n",
       "    <tr>\n",
       "      <th>Defective</th>\n",
       "      <td>29</td>\n",
       "      <td>33</td>\n",
       "      <td>31</td>\n",
       "      <td>20</td>\n",
       "    </tr>\n",
       "  </tbody>\n",
       "</table>\n",
       "</div>"
      ],
      "text/plain": [
       "            Phillippines  Indonesia  Malta  India\n",
       "Error Free           271        267    269    280\n",
       "Defective             29         33     31     20"
      ]
     },
     "execution_count": 23,
     "metadata": {},
     "output_type": "execute_result"
    }
   ],
   "source": [
    "#The count of Error Free and Defective for given 4 centers\n",
    "table = [[271,267,269,280],[29,33,31,20]]\n",
    "data1 = pd.DataFrame([\n",
    "    [271,267,269,280],\n",
    "    [29,33,31,20]], \n",
    "    index = ['Error Free', 'Defective'], columns = ['Phillippines', 'Indonesia', 'Malta', 'India'])\n",
    "data1\n"
   ]
  },
  {
   "cell_type": "code",
   "execution_count": 25,
   "id": "370c1454",
   "metadata": {
    "ExecuteTime": {
     "end_time": "2023-05-25T12:37:12.683143Z",
     "start_time": "2023-05-25T12:37:12.652171Z"
    }
   },
   "outputs": [
    {
     "name": "stdout",
     "output_type": "stream",
     "text": [
      "\n",
      "Chi-squared test for independence\n",
      "\n",
      "Test              Df    Chi-square    P-value\n",
      "--------------  ----  ------------  ---------\n",
      "Pearson            3       3.85896   0.277102\n",
      "Log-likelihood     3       4.08351   0.252587\n",
      "\n"
     ]
    }
   ],
   "source": [
    "# run chi-square test for independence\n",
    "res = stat()\n",
    "res.chisq(df=data1)\n",
    "print(res.summary)\n",
    "\n",
    "\n",
    "\n"
   ]
  },
  {
   "cell_type": "code",
   "execution_count": 26,
   "id": "441e7a53",
   "metadata": {
    "ExecuteTime": {
     "end_time": "2023-05-25T12:37:41.319300Z",
     "start_time": "2023-05-25T12:37:41.307288Z"
    }
   },
   "outputs": [
    {
     "name": "stdout",
     "output_type": "stream",
     "text": [
      "\n",
      "Expected frequency counts\n",
      "\n",
      "      Phillippines    Indonesia    Malta    India\n",
      "--  --------------  -----------  -------  -------\n",
      " 0          271.75       271.75   271.75   271.75\n",
      " 1           28.25        28.25    28.25    28.25\n",
      "\n"
     ]
    }
   ],
   "source": [
    "print(res.expected_df)\n"
   ]
  },
  {
   "cell_type": "code",
   "execution_count": 27,
   "id": "cce64234",
   "metadata": {
    "ExecuteTime": {
     "end_time": "2023-05-25T12:37:47.883068Z",
     "start_time": "2023-05-25T12:37:47.869105Z"
    }
   },
   "outputs": [],
   "source": [
    "#Final Statement : Now if we analyse pvalue = 0.277 at 5% significance level (alpha = 0.05) we get pvlaue greater than alpha. Hence we will fail to reject H0 (Null Hypothesis)\n",
    "\n",
    "#pvalue > alpha (0.277 > 0.05)\n",
    "\n",
    "#Accept H0 => the defective % does not vary by centre / the variables are independent"
   ]
  },
  {
   "cell_type": "code",
   "execution_count": null,
   "id": "e3759e47",
   "metadata": {},
   "outputs": [],
   "source": []
  }
 ],
 "metadata": {
  "kernelspec": {
   "display_name": "Python 3 (ipykernel)",
   "language": "python",
   "name": "python3"
  },
  "language_info": {
   "codemirror_mode": {
    "name": "ipython",
    "version": 3
   },
   "file_extension": ".py",
   "mimetype": "text/x-python",
   "name": "python",
   "nbconvert_exporter": "python",
   "pygments_lexer": "ipython3",
   "version": "3.9.13"
  }
 },
 "nbformat": 4,
 "nbformat_minor": 5
}
