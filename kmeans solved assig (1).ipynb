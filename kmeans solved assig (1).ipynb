{
 "cells": [
  {
   "cell_type": "markdown",
   "id": "23f810e5",
   "metadata": {},
   "source": [
    "# k means clustering-crimerate"
   ]
  },
  {
   "cell_type": "code",
   "execution_count": 1,
   "id": "cde4bde1",
   "metadata": {
    "ExecuteTime": {
     "end_time": "2023-05-01T12:58:34.215678Z",
     "start_time": "2023-05-01T12:58:25.767697Z"
    }
   },
   "outputs": [
    {
     "name": "stdout",
     "output_type": "stream",
     "text": [
      "Requirement already satisfied: numpy==1.21.4 in c:\\users\\rama krishna\\anaconda3\\lib\\site-packages (1.21.4)\n"
     ]
    }
   ],
   "source": [
    "!pip install numpy==1.21.4\n",
    "import pandas as pd \n",
    "import numpy as np \n",
    "import matplotlib.pyplot as plt\n",
    "from sklearn.cluster import KMeans"
   ]
  },
  {
   "cell_type": "code",
   "execution_count": 2,
   "id": "da520798",
   "metadata": {
    "ExecuteTime": {
     "end_time": "2023-05-01T12:58:34.231464Z",
     "start_time": "2023-05-01T12:58:34.218499Z"
    }
   },
   "outputs": [],
   "source": [
    "Crime=pd.read_csv(\"crime_data.csv\",index_col=0)"
   ]
  },
  {
   "cell_type": "code",
   "execution_count": 3,
   "id": "11952288",
   "metadata": {
    "ExecuteTime": {
     "end_time": "2023-05-01T12:58:34.277344Z",
     "start_time": "2023-05-01T12:58:34.233462Z"
    }
   },
   "outputs": [
    {
     "data": {
      "text/html": [
       "<div>\n",
       "<style scoped>\n",
       "    .dataframe tbody tr th:only-of-type {\n",
       "        vertical-align: middle;\n",
       "    }\n",
       "\n",
       "    .dataframe tbody tr th {\n",
       "        vertical-align: top;\n",
       "    }\n",
       "\n",
       "    .dataframe thead th {\n",
       "        text-align: right;\n",
       "    }\n",
       "</style>\n",
       "<table border=\"1\" class=\"dataframe\">\n",
       "  <thead>\n",
       "    <tr style=\"text-align: right;\">\n",
       "      <th></th>\n",
       "      <th>Murder</th>\n",
       "      <th>Assault</th>\n",
       "      <th>UrbanPop</th>\n",
       "      <th>Rape</th>\n",
       "    </tr>\n",
       "  </thead>\n",
       "  <tbody>\n",
       "    <tr>\n",
       "      <th>Alabama</th>\n",
       "      <td>13.2</td>\n",
       "      <td>236</td>\n",
       "      <td>58</td>\n",
       "      <td>21.2</td>\n",
       "    </tr>\n",
       "    <tr>\n",
       "      <th>Alaska</th>\n",
       "      <td>10.0</td>\n",
       "      <td>263</td>\n",
       "      <td>48</td>\n",
       "      <td>44.5</td>\n",
       "    </tr>\n",
       "    <tr>\n",
       "      <th>Arizona</th>\n",
       "      <td>8.1</td>\n",
       "      <td>294</td>\n",
       "      <td>80</td>\n",
       "      <td>31.0</td>\n",
       "    </tr>\n",
       "    <tr>\n",
       "      <th>Arkansas</th>\n",
       "      <td>8.8</td>\n",
       "      <td>190</td>\n",
       "      <td>50</td>\n",
       "      <td>19.5</td>\n",
       "    </tr>\n",
       "    <tr>\n",
       "      <th>California</th>\n",
       "      <td>9.0</td>\n",
       "      <td>276</td>\n",
       "      <td>91</td>\n",
       "      <td>40.6</td>\n",
       "    </tr>\n",
       "    <tr>\n",
       "      <th>Colorado</th>\n",
       "      <td>7.9</td>\n",
       "      <td>204</td>\n",
       "      <td>78</td>\n",
       "      <td>38.7</td>\n",
       "    </tr>\n",
       "    <tr>\n",
       "      <th>Connecticut</th>\n",
       "      <td>3.3</td>\n",
       "      <td>110</td>\n",
       "      <td>77</td>\n",
       "      <td>11.1</td>\n",
       "    </tr>\n",
       "    <tr>\n",
       "      <th>Delaware</th>\n",
       "      <td>5.9</td>\n",
       "      <td>238</td>\n",
       "      <td>72</td>\n",
       "      <td>15.8</td>\n",
       "    </tr>\n",
       "    <tr>\n",
       "      <th>Florida</th>\n",
       "      <td>15.4</td>\n",
       "      <td>335</td>\n",
       "      <td>80</td>\n",
       "      <td>31.9</td>\n",
       "    </tr>\n",
       "    <tr>\n",
       "      <th>Georgia</th>\n",
       "      <td>17.4</td>\n",
       "      <td>211</td>\n",
       "      <td>60</td>\n",
       "      <td>25.8</td>\n",
       "    </tr>\n",
       "    <tr>\n",
       "      <th>Hawaii</th>\n",
       "      <td>5.3</td>\n",
       "      <td>46</td>\n",
       "      <td>83</td>\n",
       "      <td>20.2</td>\n",
       "    </tr>\n",
       "    <tr>\n",
       "      <th>Idaho</th>\n",
       "      <td>2.6</td>\n",
       "      <td>120</td>\n",
       "      <td>54</td>\n",
       "      <td>14.2</td>\n",
       "    </tr>\n",
       "    <tr>\n",
       "      <th>Illinois</th>\n",
       "      <td>10.4</td>\n",
       "      <td>249</td>\n",
       "      <td>83</td>\n",
       "      <td>24.0</td>\n",
       "    </tr>\n",
       "    <tr>\n",
       "      <th>Indiana</th>\n",
       "      <td>7.2</td>\n",
       "      <td>113</td>\n",
       "      <td>65</td>\n",
       "      <td>21.0</td>\n",
       "    </tr>\n",
       "    <tr>\n",
       "      <th>Iowa</th>\n",
       "      <td>2.2</td>\n",
       "      <td>56</td>\n",
       "      <td>57</td>\n",
       "      <td>11.3</td>\n",
       "    </tr>\n",
       "    <tr>\n",
       "      <th>Kansas</th>\n",
       "      <td>6.0</td>\n",
       "      <td>115</td>\n",
       "      <td>66</td>\n",
       "      <td>18.0</td>\n",
       "    </tr>\n",
       "    <tr>\n",
       "      <th>Kentucky</th>\n",
       "      <td>9.7</td>\n",
       "      <td>109</td>\n",
       "      <td>52</td>\n",
       "      <td>16.3</td>\n",
       "    </tr>\n",
       "    <tr>\n",
       "      <th>Louisiana</th>\n",
       "      <td>15.4</td>\n",
       "      <td>249</td>\n",
       "      <td>66</td>\n",
       "      <td>22.2</td>\n",
       "    </tr>\n",
       "    <tr>\n",
       "      <th>Maine</th>\n",
       "      <td>2.1</td>\n",
       "      <td>83</td>\n",
       "      <td>51</td>\n",
       "      <td>7.8</td>\n",
       "    </tr>\n",
       "    <tr>\n",
       "      <th>Maryland</th>\n",
       "      <td>11.3</td>\n",
       "      <td>300</td>\n",
       "      <td>67</td>\n",
       "      <td>27.8</td>\n",
       "    </tr>\n",
       "    <tr>\n",
       "      <th>Massachusetts</th>\n",
       "      <td>4.4</td>\n",
       "      <td>149</td>\n",
       "      <td>85</td>\n",
       "      <td>16.3</td>\n",
       "    </tr>\n",
       "    <tr>\n",
       "      <th>Michigan</th>\n",
       "      <td>12.1</td>\n",
       "      <td>255</td>\n",
       "      <td>74</td>\n",
       "      <td>35.1</td>\n",
       "    </tr>\n",
       "    <tr>\n",
       "      <th>Minnesota</th>\n",
       "      <td>2.7</td>\n",
       "      <td>72</td>\n",
       "      <td>66</td>\n",
       "      <td>14.9</td>\n",
       "    </tr>\n",
       "    <tr>\n",
       "      <th>Mississippi</th>\n",
       "      <td>16.1</td>\n",
       "      <td>259</td>\n",
       "      <td>44</td>\n",
       "      <td>17.1</td>\n",
       "    </tr>\n",
       "    <tr>\n",
       "      <th>Missouri</th>\n",
       "      <td>9.0</td>\n",
       "      <td>178</td>\n",
       "      <td>70</td>\n",
       "      <td>28.2</td>\n",
       "    </tr>\n",
       "    <tr>\n",
       "      <th>Montana</th>\n",
       "      <td>6.0</td>\n",
       "      <td>109</td>\n",
       "      <td>53</td>\n",
       "      <td>16.4</td>\n",
       "    </tr>\n",
       "    <tr>\n",
       "      <th>Nebraska</th>\n",
       "      <td>4.3</td>\n",
       "      <td>102</td>\n",
       "      <td>62</td>\n",
       "      <td>16.5</td>\n",
       "    </tr>\n",
       "    <tr>\n",
       "      <th>Nevada</th>\n",
       "      <td>12.2</td>\n",
       "      <td>252</td>\n",
       "      <td>81</td>\n",
       "      <td>46.0</td>\n",
       "    </tr>\n",
       "    <tr>\n",
       "      <th>New Hampshire</th>\n",
       "      <td>2.1</td>\n",
       "      <td>57</td>\n",
       "      <td>56</td>\n",
       "      <td>9.5</td>\n",
       "    </tr>\n",
       "    <tr>\n",
       "      <th>New Jersey</th>\n",
       "      <td>7.4</td>\n",
       "      <td>159</td>\n",
       "      <td>89</td>\n",
       "      <td>18.8</td>\n",
       "    </tr>\n",
       "    <tr>\n",
       "      <th>New Mexico</th>\n",
       "      <td>11.4</td>\n",
       "      <td>285</td>\n",
       "      <td>70</td>\n",
       "      <td>32.1</td>\n",
       "    </tr>\n",
       "    <tr>\n",
       "      <th>New York</th>\n",
       "      <td>11.1</td>\n",
       "      <td>254</td>\n",
       "      <td>86</td>\n",
       "      <td>26.1</td>\n",
       "    </tr>\n",
       "    <tr>\n",
       "      <th>North Carolina</th>\n",
       "      <td>13.0</td>\n",
       "      <td>337</td>\n",
       "      <td>45</td>\n",
       "      <td>16.1</td>\n",
       "    </tr>\n",
       "    <tr>\n",
       "      <th>North Dakota</th>\n",
       "      <td>0.8</td>\n",
       "      <td>45</td>\n",
       "      <td>44</td>\n",
       "      <td>7.3</td>\n",
       "    </tr>\n",
       "    <tr>\n",
       "      <th>Ohio</th>\n",
       "      <td>7.3</td>\n",
       "      <td>120</td>\n",
       "      <td>75</td>\n",
       "      <td>21.4</td>\n",
       "    </tr>\n",
       "    <tr>\n",
       "      <th>Oklahoma</th>\n",
       "      <td>6.6</td>\n",
       "      <td>151</td>\n",
       "      <td>68</td>\n",
       "      <td>20.0</td>\n",
       "    </tr>\n",
       "    <tr>\n",
       "      <th>Oregon</th>\n",
       "      <td>4.9</td>\n",
       "      <td>159</td>\n",
       "      <td>67</td>\n",
       "      <td>29.3</td>\n",
       "    </tr>\n",
       "    <tr>\n",
       "      <th>Pennsylvania</th>\n",
       "      <td>6.3</td>\n",
       "      <td>106</td>\n",
       "      <td>72</td>\n",
       "      <td>14.9</td>\n",
       "    </tr>\n",
       "    <tr>\n",
       "      <th>Rhode Island</th>\n",
       "      <td>3.4</td>\n",
       "      <td>174</td>\n",
       "      <td>87</td>\n",
       "      <td>8.3</td>\n",
       "    </tr>\n",
       "    <tr>\n",
       "      <th>South Carolina</th>\n",
       "      <td>14.4</td>\n",
       "      <td>279</td>\n",
       "      <td>48</td>\n",
       "      <td>22.5</td>\n",
       "    </tr>\n",
       "    <tr>\n",
       "      <th>South Dakota</th>\n",
       "      <td>3.8</td>\n",
       "      <td>86</td>\n",
       "      <td>45</td>\n",
       "      <td>12.8</td>\n",
       "    </tr>\n",
       "    <tr>\n",
       "      <th>Tennessee</th>\n",
       "      <td>13.2</td>\n",
       "      <td>188</td>\n",
       "      <td>59</td>\n",
       "      <td>26.9</td>\n",
       "    </tr>\n",
       "    <tr>\n",
       "      <th>Texas</th>\n",
       "      <td>12.7</td>\n",
       "      <td>201</td>\n",
       "      <td>80</td>\n",
       "      <td>25.5</td>\n",
       "    </tr>\n",
       "    <tr>\n",
       "      <th>Utah</th>\n",
       "      <td>3.2</td>\n",
       "      <td>120</td>\n",
       "      <td>80</td>\n",
       "      <td>22.9</td>\n",
       "    </tr>\n",
       "    <tr>\n",
       "      <th>Vermont</th>\n",
       "      <td>2.2</td>\n",
       "      <td>48</td>\n",
       "      <td>32</td>\n",
       "      <td>11.2</td>\n",
       "    </tr>\n",
       "    <tr>\n",
       "      <th>Virginia</th>\n",
       "      <td>8.5</td>\n",
       "      <td>156</td>\n",
       "      <td>63</td>\n",
       "      <td>20.7</td>\n",
       "    </tr>\n",
       "    <tr>\n",
       "      <th>Washington</th>\n",
       "      <td>4.0</td>\n",
       "      <td>145</td>\n",
       "      <td>73</td>\n",
       "      <td>26.2</td>\n",
       "    </tr>\n",
       "    <tr>\n",
       "      <th>West Virginia</th>\n",
       "      <td>5.7</td>\n",
       "      <td>81</td>\n",
       "      <td>39</td>\n",
       "      <td>9.3</td>\n",
       "    </tr>\n",
       "    <tr>\n",
       "      <th>Wisconsin</th>\n",
       "      <td>2.6</td>\n",
       "      <td>53</td>\n",
       "      <td>66</td>\n",
       "      <td>10.8</td>\n",
       "    </tr>\n",
       "    <tr>\n",
       "      <th>Wyoming</th>\n",
       "      <td>6.8</td>\n",
       "      <td>161</td>\n",
       "      <td>60</td>\n",
       "      <td>15.6</td>\n",
       "    </tr>\n",
       "  </tbody>\n",
       "</table>\n",
       "</div>"
      ],
      "text/plain": [
       "                Murder  Assault  UrbanPop  Rape\n",
       "Alabama           13.2      236        58  21.2\n",
       "Alaska            10.0      263        48  44.5\n",
       "Arizona            8.1      294        80  31.0\n",
       "Arkansas           8.8      190        50  19.5\n",
       "California         9.0      276        91  40.6\n",
       "Colorado           7.9      204        78  38.7\n",
       "Connecticut        3.3      110        77  11.1\n",
       "Delaware           5.9      238        72  15.8\n",
       "Florida           15.4      335        80  31.9\n",
       "Georgia           17.4      211        60  25.8\n",
       "Hawaii             5.3       46        83  20.2\n",
       "Idaho              2.6      120        54  14.2\n",
       "Illinois          10.4      249        83  24.0\n",
       "Indiana            7.2      113        65  21.0\n",
       "Iowa               2.2       56        57  11.3\n",
       "Kansas             6.0      115        66  18.0\n",
       "Kentucky           9.7      109        52  16.3\n",
       "Louisiana         15.4      249        66  22.2\n",
       "Maine              2.1       83        51   7.8\n",
       "Maryland          11.3      300        67  27.8\n",
       "Massachusetts      4.4      149        85  16.3\n",
       "Michigan          12.1      255        74  35.1\n",
       "Minnesota          2.7       72        66  14.9\n",
       "Mississippi       16.1      259        44  17.1\n",
       "Missouri           9.0      178        70  28.2\n",
       "Montana            6.0      109        53  16.4\n",
       "Nebraska           4.3      102        62  16.5\n",
       "Nevada            12.2      252        81  46.0\n",
       "New Hampshire      2.1       57        56   9.5\n",
       "New Jersey         7.4      159        89  18.8\n",
       "New Mexico        11.4      285        70  32.1\n",
       "New York          11.1      254        86  26.1\n",
       "North Carolina    13.0      337        45  16.1\n",
       "North Dakota       0.8       45        44   7.3\n",
       "Ohio               7.3      120        75  21.4\n",
       "Oklahoma           6.6      151        68  20.0\n",
       "Oregon             4.9      159        67  29.3\n",
       "Pennsylvania       6.3      106        72  14.9\n",
       "Rhode Island       3.4      174        87   8.3\n",
       "South Carolina    14.4      279        48  22.5\n",
       "South Dakota       3.8       86        45  12.8\n",
       "Tennessee         13.2      188        59  26.9\n",
       "Texas             12.7      201        80  25.5\n",
       "Utah               3.2      120        80  22.9\n",
       "Vermont            2.2       48        32  11.2\n",
       "Virginia           8.5      156        63  20.7\n",
       "Washington         4.0      145        73  26.2\n",
       "West Virginia      5.7       81        39   9.3\n",
       "Wisconsin          2.6       53        66  10.8\n",
       "Wyoming            6.8      161        60  15.6"
      ]
     },
     "execution_count": 3,
     "metadata": {},
     "output_type": "execute_result"
    }
   ],
   "source": [
    "Crime"
   ]
  },
  {
   "cell_type": "code",
   "execution_count": 4,
   "id": "4bc3fde6",
   "metadata": {
    "ExecuteTime": {
     "end_time": "2023-05-01T12:58:34.307346Z",
     "start_time": "2023-05-01T12:58:34.281332Z"
    }
   },
   "outputs": [],
   "source": [
    "# Normalization function \n",
    "from sklearn.preprocessing import StandardScaler\n",
    "scaler = StandardScaler()\n",
    "Crime_df = scaler.fit_transform(Crime.iloc[:,1:])"
   ]
  },
  {
   "cell_type": "code",
   "execution_count": 5,
   "id": "145cee6f",
   "metadata": {
    "ExecuteTime": {
     "end_time": "2023-05-01T12:58:34.323335Z",
     "start_time": "2023-05-01T12:58:34.309338Z"
    }
   },
   "outputs": [
    {
     "data": {
      "text/plain": [
       "array([[ 0.79078716, -0.52619514, -0.00345116],\n",
       "       [ 1.11805959, -1.22406668,  2.50942392],\n",
       "       [ 1.49381682,  1.00912225,  1.05346626],\n",
       "       [ 0.23321191, -1.08449238, -0.18679398],\n",
       "       [ 1.2756352 ,  1.77678094,  2.08881393],\n",
       "       [ 0.40290872,  0.86954794,  1.88390137],\n",
       "       [-0.73648418,  0.79976079, -1.09272319],\n",
       "       [ 0.81502956,  0.45082502, -0.58583422],\n",
       "       [ 1.99078607,  1.00912225,  1.1505301 ],\n",
       "       [ 0.48775713, -0.38662083,  0.49265293],\n",
       "       [-1.51224105,  1.21848371, -0.11129987],\n",
       "       [-0.61527217, -0.80534376, -0.75839217],\n",
       "       [ 0.94836277,  1.21848371,  0.29852525],\n",
       "       [-0.70012057, -0.03768506, -0.0250209 ],\n",
       "       [-1.39102904, -0.5959823 , -1.07115345],\n",
       "       [-0.67587817,  0.03210209, -0.34856705],\n",
       "       [-0.74860538, -0.94491807, -0.53190987],\n",
       "       [ 0.94836277,  0.03210209,  0.10439756],\n",
       "       [-1.06375661, -1.01470522, -1.44862395],\n",
       "       [ 1.56654403,  0.10188925,  0.70835037],\n",
       "       [-0.26375734,  1.35805802, -0.53190987],\n",
       "       [ 1.02108998,  0.59039932,  1.49564599],\n",
       "       [-1.19708982,  0.03210209, -0.68289807],\n",
       "       [ 1.06957478, -1.5032153 , -0.44563089],\n",
       "       [ 0.0877575 ,  0.31125071,  0.75148985],\n",
       "       [-0.74860538, -0.87513091, -0.521125  ],\n",
       "       [-0.83345379, -0.24704653, -0.51034012],\n",
       "       [ 0.98472638,  1.0789094 ,  2.671197  ],\n",
       "       [-1.37890783, -0.66576945, -1.26528114],\n",
       "       [-0.14254532,  1.63720664, -0.26228808],\n",
       "       [ 1.38472601,  0.31125071,  1.17209984],\n",
       "       [ 1.00896878,  1.42784517,  0.52500755],\n",
       "       [ 2.01502847, -1.43342815, -0.55347961],\n",
       "       [-1.52436225, -1.5032153 , -1.50254831],\n",
       "       [-0.61527217,  0.66018648,  0.01811858],\n",
       "       [-0.23951493,  0.1716764 , -0.13286962],\n",
       "       [-0.14254532,  0.10188925,  0.87012344],\n",
       "       [-0.78496898,  0.45082502, -0.68289807],\n",
       "       [ 0.03927269,  1.49763233, -1.39469959],\n",
       "       [ 1.3119988 , -1.22406668,  0.13675217],\n",
       "       [-1.027393  , -1.43342815, -0.90938037],\n",
       "       [ 0.20896951, -0.45640799,  0.61128652],\n",
       "       [ 0.36654512,  1.00912225,  0.46029832],\n",
       "       [-0.61527217,  1.00912225,  0.17989166],\n",
       "       [-1.48799864, -2.34066115, -1.08193832],\n",
       "       [-0.17890893, -0.17725937, -0.05737552],\n",
       "       [-0.31224214,  0.52061217,  0.53579242],\n",
       "       [-1.08799901, -1.85215107, -1.28685088],\n",
       "       [-1.42739264,  0.03210209, -1.1250778 ],\n",
       "       [-0.11830292, -0.38662083, -0.60740397]])"
      ]
     },
     "execution_count": 5,
     "metadata": {},
     "output_type": "execute_result"
    }
   ],
   "source": [
    "Crime_df"
   ]
  },
  {
   "cell_type": "code",
   "execution_count": 6,
   "id": "bbfeefb2",
   "metadata": {
    "ExecuteTime": {
     "end_time": "2023-05-01T12:58:35.436336Z",
     "start_time": "2023-05-01T12:58:34.325328Z"
    }
   },
   "outputs": [
    {
     "name": "stderr",
     "output_type": "stream",
     "text": [
      "C:\\Users\\RAMA KRISHNA\\anaconda3\\lib\\site-packages\\sklearn\\cluster\\_kmeans.py:1036: UserWarning: KMeans is known to have a memory leak on Windows with MKL, when there are less chunks than available threads. You can avoid it by setting the environment variable OMP_NUM_THREADS=1.\n",
      "  warnings.warn(\n"
     ]
    },
    {
     "ename": "NameError",
     "evalue": "name 'wcss' is not defined",
     "output_type": "error",
     "traceback": [
      "\u001b[1;31m---------------------------------------------------------------------------\u001b[0m",
      "\u001b[1;31mNameError\u001b[0m                                 Traceback (most recent call last)",
      "\u001b[1;32m~\\AppData\\Local\\Temp\\ipykernel_10104\\1555593.py\u001b[0m in \u001b[0;36m<module>\u001b[1;34m\u001b[0m\n\u001b[0;32m      7\u001b[0m     \u001b[0mWCSS\u001b[0m\u001b[1;33m.\u001b[0m\u001b[0mappend\u001b[0m\u001b[1;33m(\u001b[0m\u001b[0mclf\u001b[0m\u001b[1;33m.\u001b[0m\u001b[0minertia_\u001b[0m\u001b[1;33m)\u001b[0m\u001b[1;33m\u001b[0m\u001b[1;33m\u001b[0m\u001b[0m\n\u001b[0;32m      8\u001b[0m \u001b[1;33m\u001b[0m\u001b[0m\n\u001b[1;32m----> 9\u001b[1;33m \u001b[0mplt\u001b[0m\u001b[1;33m.\u001b[0m\u001b[0mplot\u001b[0m\u001b[1;33m(\u001b[0m\u001b[0mrange\u001b[0m\u001b[1;33m(\u001b[0m\u001b[1;36m1\u001b[0m\u001b[1;33m,\u001b[0m \u001b[1;36m11\u001b[0m\u001b[1;33m)\u001b[0m\u001b[1;33m,\u001b[0m \u001b[0mwcss\u001b[0m\u001b[1;33m)\u001b[0m\u001b[1;33m\u001b[0m\u001b[1;33m\u001b[0m\u001b[0m\n\u001b[0m\u001b[0;32m     10\u001b[0m \u001b[0mplt\u001b[0m\u001b[1;33m.\u001b[0m\u001b[0mtitle\u001b[0m\u001b[1;33m(\u001b[0m\u001b[1;34m'Elbow Method'\u001b[0m\u001b[1;33m)\u001b[0m\u001b[1;33m\u001b[0m\u001b[1;33m\u001b[0m\u001b[0m\n\u001b[0;32m     11\u001b[0m \u001b[0mplt\u001b[0m\u001b[1;33m.\u001b[0m\u001b[0mxlabel\u001b[0m\u001b[1;33m(\u001b[0m\u001b[1;34m'Number of clusters'\u001b[0m\u001b[1;33m)\u001b[0m\u001b[1;33m\u001b[0m\u001b[1;33m\u001b[0m\u001b[0m\n",
      "\u001b[1;31mNameError\u001b[0m: name 'wcss' is not defined"
     ]
    },
    {
     "data": {
      "text/plain": [
       "<Figure size 1000x800 with 0 Axes>"
      ]
     },
     "metadata": {},
     "output_type": "display_data"
    }
   ],
   "source": [
    "from sklearn.cluster import KMeans\n",
    "fig=plt.figure(figsize=(10,8))\n",
    "WCSS = []\n",
    "for i in range(1, 11):\n",
    "    clf=KMeans(n_clusters=i)\n",
    "    clf.fit(Crime_df)\n",
    "    WCSS.append(clf.inertia_)\n",
    "    \n",
    "plt.plot(range(1, 11), wcss)\n",
    "plt.title('Elbow Method')\n",
    "plt.xlabel('Number of clusters')\n",
    "plt.ylabel('WCSS')\n",
    "plt.show()"
   ]
  },
  {
   "cell_type": "code",
   "execution_count": null,
   "id": "29405b75",
   "metadata": {
    "ExecuteTime": {
     "end_time": "2023-05-01T12:58:35.441322Z",
     "start_time": "2023-05-01T12:58:35.441322Z"
    }
   },
   "outputs": [],
   "source": [
    "clf=KMeans(n_clusters=4)\n",
    "y_kmeans=clf.fit_predict(Crime_df)"
   ]
  },
  {
   "cell_type": "code",
   "execution_count": null,
   "id": "f53eb042",
   "metadata": {
    "ExecuteTime": {
     "end_time": "2023-05-01T12:58:35.444314Z",
     "start_time": "2023-05-01T12:58:35.444314Z"
    }
   },
   "outputs": [],
   "source": [
    "y_kmeans\n",
    "clf.labels_"
   ]
  },
  {
   "cell_type": "code",
   "execution_count": null,
   "id": "d0f50d66",
   "metadata": {
    "ExecuteTime": {
     "end_time": "2023-05-01T12:58:35.446325Z",
     "start_time": "2023-05-01T12:58:35.446325Z"
    }
   },
   "outputs": [],
   "source": [
    "clf.cluster_centers_"
   ]
  },
  {
   "cell_type": "code",
   "execution_count": null,
   "id": "5f163244",
   "metadata": {
    "ExecuteTime": {
     "end_time": "2023-05-01T12:58:35.449305Z",
     "start_time": "2023-05-01T12:58:35.449305Z"
    }
   },
   "outputs": [],
   "source": [
    "clf.inertia_"
   ]
  },
  {
   "cell_type": "code",
   "execution_count": null,
   "id": "3719a422",
   "metadata": {
    "ExecuteTime": {
     "end_time": "2023-05-01T12:58:35.451294Z",
     "start_time": "2023-05-01T12:58:35.451294Z"
    }
   },
   "outputs": [],
   "source": [
    "y_kmeans1=y_kmeans+1 \n",
    "cluster=list(y_kmeans1)\n",
    "Crime['clust']=cluster"
   ]
  },
  {
   "cell_type": "code",
   "execution_count": null,
   "id": "c45701ce",
   "metadata": {
    "ExecuteTime": {
     "end_time": "2023-05-01T12:58:35.453289Z",
     "start_time": "2023-05-01T12:58:35.453289Z"
    }
   },
   "outputs": [],
   "source": [
    "Crime"
   ]
  },
  {
   "cell_type": "code",
   "execution_count": null,
   "id": "80acf41c",
   "metadata": {
    "ExecuteTime": {
     "end_time": "2023-05-01T12:58:35.454286Z",
     "start_time": "2023-05-01T12:58:35.454286Z"
    }
   },
   "outputs": [],
   "source": [
    "Crime.iloc[:,1:].groupby(Crime.clust).mean()"
   ]
  },
  {
   "cell_type": "code",
   "execution_count": null,
   "id": "0f34fc5a",
   "metadata": {
    "ExecuteTime": {
     "end_time": "2023-05-01T12:58:35.455284Z",
     "start_time": "2023-05-01T12:58:35.455284Z"
    }
   },
   "outputs": [],
   "source": [
    "Crime.plot(x=\"Assault\",y =\"UrbanPop\",c=clf.labels_,kind=\"scatter\",s=50 ,cmap=plt.cm.coolwarm) \n",
    "plt.title('Clusters using KMeans')  \n"
   ]
  },
  {
   "cell_type": "code",
   "execution_count": null,
   "id": "47818840",
   "metadata": {
    "ExecuteTime": {
     "end_time": "2023-05-01T12:58:35.458274Z",
     "start_time": "2023-05-01T12:58:35.458274Z"
    }
   },
   "outputs": [],
   "source": [
    "Crime.plot(x=\"Assault\",y =\"Murder\",c=clf.labels_,kind=\"scatter\",s=50 ,cmap=plt.cm.coolwarm) \n",
    "plt.title('Clusters using KMeans')  "
   ]
  },
  {
   "cell_type": "code",
   "execution_count": null,
   "id": "8cbb071a",
   "metadata": {
    "ExecuteTime": {
     "end_time": "2023-05-01T12:58:35.460271Z",
     "start_time": "2023-05-01T12:58:35.460271Z"
    }
   },
   "outputs": [],
   "source": [
    "Crime.plot(x=\"Assault\",y =\"Rape\",c=clf.labels_,kind=\"scatter\",s=50 ,cmap=plt.cm.coolwarm) \n",
    "plt.title('Clusters using KMeans')  \n"
   ]
  },
  {
   "cell_type": "code",
   "execution_count": null,
   "id": "9885fb1b",
   "metadata": {
    "ExecuteTime": {
     "end_time": "2023-05-01T12:58:35.462264Z",
     "start_time": "2023-05-01T12:58:35.462264Z"
    }
   },
   "outputs": [],
   "source": [
    "WCSS\n"
   ]
  },
  {
   "cell_type": "markdown",
   "id": "5386e745",
   "metadata": {},
   "source": [
    "# kmeans clustering for eastwestairlines"
   ]
  },
  {
   "cell_type": "code",
   "execution_count": null,
   "id": "3e799136",
   "metadata": {
    "ExecuteTime": {
     "end_time": "2023-05-01T12:58:35.463263Z",
     "start_time": "2023-05-01T12:58:35.463263Z"
    }
   },
   "outputs": [],
   "source": [
    "import pandas as pd \n",
    "import numpy as np \n",
    "import matplotlib.pyplot as plt\n",
    "from sklearn.cluster import KMeans"
   ]
  },
  {
   "cell_type": "code",
   "execution_count": null,
   "id": "7b746203",
   "metadata": {
    "ExecuteTime": {
     "end_time": "2023-05-01T12:58:35.467252Z",
     "start_time": "2023-05-01T12:58:35.467252Z"
    }
   },
   "outputs": [],
   "source": [
    "Airlines=pd.read_excel(\"EastWestAirlines.xlsx\",sheet_name='data')\n",
    "Airlines"
   ]
  },
  {
   "cell_type": "code",
   "execution_count": null,
   "id": "1783798d",
   "metadata": {
    "ExecuteTime": {
     "end_time": "2023-05-01T12:58:35.469244Z",
     "start_time": "2023-05-01T12:58:35.469244Z"
    }
   },
   "outputs": [],
   "source": [
    "def norm_func(i):\n",
    "    x=(i-i.min())/(i.max()-i.min())\n",
    "    return(x)"
   ]
  },
  {
   "cell_type": "code",
   "execution_count": null,
   "id": "28beec9a",
   "metadata": {
    "ExecuteTime": {
     "end_time": "2023-05-01T12:58:35.471239Z",
     "start_time": "2023-05-01T12:58:35.471239Z"
    }
   },
   "outputs": [],
   "source": [
    "df_norm=norm_func(Airlines.iloc[:,1:])\n",
    "df_norm"
   ]
  },
  {
   "cell_type": "code",
   "execution_count": null,
   "id": "ecaff1ed",
   "metadata": {
    "ExecuteTime": {
     "end_time": "2023-05-01T12:58:35.473234Z",
     "start_time": "2023-05-01T12:58:35.473234Z"
    }
   },
   "outputs": [],
   "source": [
    "from sklearn.cluster import KMeans\n",
    "fig=plt.figure(figsize=(10,8))\n",
    "WCSS = []\n",
    "for i in range(1, 11):\n",
    "    clf=KMeans(n_clusters=i)\n",
    "    clf.fit(df_norm)\n",
    "    WCSS.append(clf.inertia_)\n",
    "    \n",
    "plt.plot(range(1, 11), wcss)\n",
    "plt.title('Elbow Method')\n",
    "plt.xlabel('Number of clusters')\n",
    "plt.ylabel('WCSS')\n",
    "plt.show()"
   ]
  },
  {
   "cell_type": "code",
   "execution_count": null,
   "id": "d36354b7",
   "metadata": {
    "ExecuteTime": {
     "end_time": "2023-05-01T12:58:35.475232Z",
     "start_time": "2023-05-01T12:58:35.475232Z"
    }
   },
   "outputs": [],
   "source": [
    "clf=KMeans(n_clusters=4)\n",
    "y_kmeans=clf.fit_predict(df_norm)"
   ]
  },
  {
   "cell_type": "code",
   "execution_count": null,
   "id": "e9026dc0",
   "metadata": {
    "ExecuteTime": {
     "end_time": "2023-05-01T12:58:35.477226Z",
     "start_time": "2023-05-01T12:58:35.477226Z"
    }
   },
   "outputs": [],
   "source": [
    "y_kmeans"
   ]
  },
  {
   "cell_type": "code",
   "execution_count": null,
   "id": "c0676bd2",
   "metadata": {
    "ExecuteTime": {
     "end_time": "2023-05-01T12:58:35.478231Z",
     "start_time": "2023-05-01T12:58:35.478231Z"
    }
   },
   "outputs": [],
   "source": [
    "y_kmeans\n",
    "clf.labels_"
   ]
  },
  {
   "cell_type": "code",
   "execution_count": null,
   "id": "02969bd2",
   "metadata": {
    "ExecuteTime": {
     "end_time": "2023-05-01T12:58:35.480218Z",
     "start_time": "2023-05-01T12:58:35.480218Z"
    }
   },
   "outputs": [],
   "source": [
    "clf.cluster_centers_"
   ]
  },
  {
   "cell_type": "code",
   "execution_count": null,
   "id": "7a468009",
   "metadata": {
    "ExecuteTime": {
     "end_time": "2023-05-01T12:58:35.483209Z",
     "start_time": "2023-05-01T12:58:35.483209Z"
    }
   },
   "outputs": [],
   "source": [
    "y_kmeans1=y_kmeans+1 \n",
    "cluster=list(y_kmeans1)\n",
    "Airlines['clust']=cluster"
   ]
  },
  {
   "cell_type": "code",
   "execution_count": null,
   "id": "927bb689",
   "metadata": {
    "ExecuteTime": {
     "end_time": "2023-05-01T12:58:35.485204Z",
     "start_time": "2023-05-01T12:58:35.485204Z"
    }
   },
   "outputs": [],
   "source": [
    "Airlines"
   ]
  },
  {
   "cell_type": "code",
   "execution_count": null,
   "id": "279f89b2",
   "metadata": {
    "ExecuteTime": {
     "end_time": "2023-05-01T12:58:35.487198Z",
     "start_time": "2023-05-01T12:58:35.487198Z"
    }
   },
   "outputs": [],
   "source": [
    "Airlines.iloc[:,1:].groupby(Airlines.clust).mean()"
   ]
  },
  {
   "cell_type": "code",
   "execution_count": null,
   "id": "45959591",
   "metadata": {
    "ExecuteTime": {
     "end_time": "2023-05-01T12:58:35.489193Z",
     "start_time": "2023-05-01T12:58:35.489193Z"
    }
   },
   "outputs": [],
   "source": [
    "Airlines.plot(x=\"Balance\",y =\"Qual_miles\",c=clf.labels_,kind=\"scatter\",s=50 ,cmap=plt.cm.coolwarm) \n",
    "plt.title('Clusters using KMeans')  \n"
   ]
  },
  {
   "cell_type": "code",
   "execution_count": null,
   "id": "b721572d",
   "metadata": {
    "ExecuteTime": {
     "end_time": "2023-05-01T12:58:35.491186Z",
     "start_time": "2023-05-01T12:58:35.491186Z"
    }
   },
   "outputs": [],
   "source": [
    "Airlines.plot(x=\"cc1_miles\",y =\"Qual_miles\",c=clf.labels_,kind=\"scatter\",s=50 ,cmap=plt.cm.coolwarm) \n",
    "plt.title('Clusters using KMeans')  "
   ]
  },
  {
   "cell_type": "code",
   "execution_count": null,
   "id": "f13d504c",
   "metadata": {
    "ExecuteTime": {
     "end_time": "2023-05-01T12:58:35.493214Z",
     "start_time": "2023-05-01T12:58:35.493214Z"
    }
   },
   "outputs": [],
   "source": [
    "WCSS"
   ]
  },
  {
   "cell_type": "code",
   "execution_count": null,
   "id": "bc2632d6",
   "metadata": {},
   "outputs": [],
   "source": []
  }
 ],
 "metadata": {
  "kernelspec": {
   "display_name": "Python 3 (ipykernel)",
   "language": "python",
   "name": "python3"
  },
  "language_info": {
   "codemirror_mode": {
    "name": "ipython",
    "version": 3
   },
   "file_extension": ".py",
   "mimetype": "text/x-python",
   "name": "python",
   "nbconvert_exporter": "python",
   "pygments_lexer": "ipython3",
   "version": "3.9.13"
  }
 },
 "nbformat": 4,
 "nbformat_minor": 5
}
